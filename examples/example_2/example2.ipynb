{
 "cells": [
  {
   "cell_type": "markdown",
   "id": "f2fd153b-7ae2-4bc5-9a89-9960caa571a2",
   "metadata": {},
   "source": [
    "# Example 2 - Training on one data set - evaluating on another\n",
    "\n",
    "We use some AST data to train the model, and then we predict into the future based on the trained PINN parameters."
   ]
  },
  {
   "cell_type": "code",
   "execution_count": 1,
   "id": "fbec56b1-34bb-4311-91cb-582f51d94137",
   "metadata": {},
   "outputs": [],
   "source": [
    "import sys\n",
    "import os\n",
    "\n",
    "# Get the root project folder\n",
    "project_root = os.path.abspath(os.path.join(os.getcwd(), '..', '..'))\n",
    "\n",
    "# Add the src folder to sys.path\n",
    "src_path = os.path.join(project_root, 'src')\n",
    "if src_path not in sys.path:\n",
    "    sys.path.append(src_path)"
   ]
  },
  {
   "cell_type": "code",
   "execution_count": 2,
   "id": "a6608add-6fb9-4b9b-8c4d-6c8cb72bf690",
   "metadata": {},
   "outputs": [],
   "source": [
    "import yaml\n",
    "from elec_pinn.data.preprocessing   import Preprocessor     \n",
    "from elec_pinn.data.loader          import ScalerLoader     \n",
    "from elec_pinn.cli                  import load_config, get_model\n",
    "from elec_pinn.utils.visualization  import plot_pinn_performance "
   ]
  },
  {
   "cell_type": "code",
   "execution_count": null,
   "id": "3c87e920-447d-4af3-97fa-a94060bca222",
   "metadata": {},
   "outputs": [],
   "source": []
  },
  {
   "cell_type": "code",
   "execution_count": 3,
   "id": "50569b99-69a3-4b4e-a655-5e5f5ecbde97",
   "metadata": {},
   "outputs": [],
   "source": [
    "cfg = load_config(\"example2_config.yaml\")"
   ]
  },
  {
   "cell_type": "code",
   "execution_count": null,
   "id": "593e9d5b-d84d-4807-aea5-953018b6e50f",
   "metadata": {},
   "outputs": [],
   "source": []
  },
  {
   "cell_type": "code",
   "execution_count": 4,
   "id": "6ab1937a-2c48-4a84-938d-c4f70286e18b",
   "metadata": {},
   "outputs": [
    {
     "data": {
      "image/png": "[encoded data removed]",
      "text/plain": [
       "<Figure size 500x400 with 1 Axes>"
      ]
     },
     "metadata": {},
     "output_type": "display_data"
    }
   ],
   "source": [
    "dp = Preprocessor(cfg[\"data\"][\"dataset_name\"])\n",
    "df = dp.preprocess(\n",
    "                    t0 = cfg[\"data\"][\"t0\"],\n",
    "                    t1 = cfg[\"data\"][\"t1\"],\n",
    "                    plot_fit = True,   # show the performance fit curve\n",
    "                    plot_raw = False   # show raw data over time\n",
    "                )"
   ]
  },
  {
   "cell_type": "markdown",
   "id": "ed953fb5-5f15-4e6c-9626-1a526cceaf26",
   "metadata": {},
   "source": [
    "Intiantiate a 'scaler' based on feature and targetnames as well as the scaling range. Then, use the .get_loader() method to convert the input data into Pytorch DataLoaders that are useful when working with neural networks. Here, the dataset is split into train, validation, test, and lastly a combined dataloader, where the combined DataLoader contains the whole dataset.\n",
    "\n",
    "The training DataLoader is shuffled in time while the validation, testing and all (combined) dataloaders are not shuffled in time. The shuffling was found to enhance prediction accuracy by trial-and-error.\n",
    "\n",
    "The resulting dataloaders are also normalized to the range specified in the config file."
   ]
  },
  {
   "cell_type": "code",
   "execution_count": 5,
   "id": "ae005f01-34de-4ab3-bcac-1941de950970",
   "metadata": {},
   "outputs": [],
   "source": [
    "scaler = ScalerLoader(\n",
    "                feature_cols=cfg[\"data\"][\"feature_names\"],\n",
    "                target_cols=cfg[\"data\"][\"target_names\"],\n",
    "                scale_range=tuple(cfg[\"data\"][\"scale_range\"]) \n",
    "                     ).fit(df)\n",
    "\n",
    "train_loader, val_loader, test_loader, all_loader = scaler.get_loaders(\n",
    "    df,\n",
    "    f_train=cfg[\"data\"][\"train_frac\"],\n",
    "    f_val=  cfg[\"data\"][\"val_frac\"],\n",
    "    f_test=1 - cfg[\"data\"][\"train_frac\"] - cfg[\"data\"][\"val_frac\"],\n",
    "    batch_sizes=tuple(cfg[\"training\"][\"batch_sizes\"])\n",
    ")"
   ]
  },
  {
   "cell_type": "markdown",
   "id": "e987da9c-6978-48e6-a0e4-1d32c0861e8c",
   "metadata": {},
   "source": [
    "We then pull the requested PINN version. In this example we use the FullPINN containing all the prediction functionalities. Next, the model is trained using the training and validation loaders."
   ]
  },
  {
   "cell_type": "code",
   "execution_count": 6,
   "id": "52991ade-b2eb-4b30-8f08-206d615f571e",
   "metadata": {},
   "outputs": [
    {
     "name": "stderr",
     "output_type": "stream",
     "text": [
      "Epoch 1 | Train: 562.375590, Val: 404.595978:   0%|▏                                                                                                                    | 1/500 [00:02<17:24,  2.09s/it]"
     ]
    },
    {
     "name": "stdout",
     "output_type": "stream",
     "text": [
      "Epoch 1: New best model saved! Loss: 404.5959777832\n"
     ]
    },
    {
     "name": "stderr",
     "output_type": "stream",
     "text": [
      "Epoch 2 | Train: 341.907043, Val: 219.680638:   0%|▍                                                                                                                    | 2/500 [00:04<17:49,  2.15s/it]"
     ]
    },
    {
     "name": "stdout",
     "output_type": "stream",
     "text": [
      "Epoch 2: New best model saved! Loss: 219.6806384671\n"
     ]
    },
    {
     "name": "stderr",
     "output_type": "stream",
     "text": [
      "Epoch 3 | Train: 193.652123, Val: 105.076373:   1%|▋                                                                                                                    | 3/500 [00:06<17:52,  2.16s/it]"
     ]
    },
    {
     "name": "stdout",
     "output_type": "stream",
     "text": [
      "Epoch 3: New best model saved! Loss: 105.0763731926\n"
     ]
    },
    {
     "name": "stderr",
     "output_type": "stream",
     "text": [
      "Epoch 4 | Train: 100.896333, Val: 41.851919:   1%|▉                                                                                                                     | 4/500 [00:08<18:27,  2.23s/it]"
     ]
    },
    {
     "name": "stdout",
     "output_type": "stream",
     "text": [
      "Epoch 4: New best model saved! Loss: 41.8519191127\n"
     ]
    },
    {
     "name": "stderr",
     "output_type": "stream",
     "text": [
      "Epoch 5 | Train: 47.887906, Val: 12.558069:   1%|█▏                                                                                                                     | 5/500 [00:11<18:41,  2.27s/it]"
     ]
    },
    {
     "name": "stdout",
     "output_type": "stream",
     "text": [
      "Epoch 5: New best model saved! Loss: 12.5580688907\n"
     ]
    },
    {
     "name": "stderr",
     "output_type": "stream",
     "text": [
      "Epoch 6 | Train: 20.757203, Val: 2.586520:   1%|█▍                                                                                                                      | 6/500 [00:13<17:59,  2.19s/it]"
     ]
    },
    {
     "name": "stdout",
     "output_type": "stream",
     "text": [
      "Epoch 6: New best model saved! Loss: 2.5865204527\n"
     ]
    },
    {
     "name": "stderr",
     "output_type": "stream",
     "text": [
      "Epoch 7 | Train: 8.518034, Val: 1.476966:   1%|█▋                                                                                                                       | 7/500 [00:15<17:53,  2.18s/it]"
     ]
    },
    {
     "name": "stdout",
     "output_type": "stream",
     "text": [
      "Epoch 7: New best model saved! Loss: 1.4769662575\n"
     ]
    },
    {
     "name": "stderr",
     "output_type": "stream",
     "text": [
      "Epoch 59 | Train: 0.336200, Val: 1.407573:  12%|██████████████                                                                                                         | 59/500 [02:07<15:54,  2.16s/it]"
     ]
    },
    {
     "name": "stdout",
     "output_type": "stream",
     "text": [
      "Epoch 59: New best model saved! Loss: 1.4075732255\n"
     ]
    },
    {
     "name": "stderr",
     "output_type": "stream",
     "text": [
      "Epoch 60 | Train: 0.322332, Val: 1.333587:  12%|██████████████▎                                                                                                        | 60/500 [02:09<15:49,  2.16s/it]"
     ]
    },
    {
     "name": "stdout",
     "output_type": "stream",
     "text": [
      "Epoch 60: New best model saved! Loss: 1.3335871696\n"
     ]
    },
    {
     "name": "stderr",
     "output_type": "stream",
     "text": [
      "Epoch 61 | Train: 0.308870, Val: 1.257799:  12%|██████████████▌                                                                                                        | 61/500 [02:11<15:33,  2.13s/it]"
     ]
    },
    {
     "name": "stdout",
     "output_type": "stream",
     "text": [
      "Epoch 61: New best model saved! Loss: 1.2577989198\n"
     ]
    },
    {
     "name": "stderr",
     "output_type": "stream",
     "text": [
      "Epoch 62 | Train: 0.295821, Val: 1.190144:  12%|██████████████▊                                                                                                        | 62/500 [02:14<15:33,  2.13s/it]"
     ]
    },
    {
     "name": "stdout",
     "output_type": "stream",
     "text": [
      "Epoch 62: New best model saved! Loss: 1.1901436857\n"
     ]
    },
    {
     "name": "stderr",
     "output_type": "stream",
     "text": [
      "Epoch 63 | Train: 0.283074, Val: 1.125282:  13%|██████████████▉                                                                                                        | 63/500 [02:16<15:36,  2.14s/it]"
     ]
    },
    {
     "name": "stdout",
     "output_type": "stream",
     "text": [
      "Epoch 63: New best model saved! Loss: 1.1252816666\n"
     ]
    },
    {
     "name": "stderr",
     "output_type": "stream",
     "text": [
      "Epoch 64 | Train: 0.270727, Val: 1.069305:  13%|███████████████▏                                                                                                       | 64/500 [02:18<15:37,  2.15s/it]"
     ]
    },
    {
     "name": "stdout",
     "output_type": "stream",
     "text": [
      "Epoch 64: New best model saved! Loss: 1.0693046354\n"
     ]
    },
    {
     "name": "stderr",
     "output_type": "stream",
     "text": [
      "Epoch 65 | Train: 0.258739, Val: 1.013162:  13%|███████████████▍                                                                                                       | 65/500 [02:20<15:31,  2.14s/it]"
     ]
    },
    {
     "name": "stdout",
     "output_type": "stream",
     "text": [
      "Epoch 65: New best model saved! Loss: 1.0131623375\n"
     ]
    },
    {
     "name": "stderr",
     "output_type": "stream",
     "text": [
      "Epoch 66 | Train: 0.247253, Val: 0.956462:  13%|███████████████▋                                                                                                       | 66/500 [02:22<15:20,  2.12s/it]"
     ]
    },
    {
     "name": "stdout",
     "output_type": "stream",
     "text": [
      "Epoch 66: New best model saved! Loss: 0.9564618348\n"
     ]
    },
    {
     "name": "stderr",
     "output_type": "stream",
     "text": [
      "Epoch 67 | Train: 0.235949, Val: 0.906860:  13%|███████████████▉                                                                                                       | 67/500 [02:24<15:42,  2.18s/it]"
     ]
    },
    {
     "name": "stdout",
     "output_type": "stream",
     "text": [
      "Epoch 67: New best model saved! Loss: 0.9068604467\n"
     ]
    },
    {
     "name": "stderr",
     "output_type": "stream",
     "text": [
      "Epoch 68 | Train: 0.225188, Val: 0.854746:  14%|████████████████▏                                                                                                      | 68/500 [02:27<15:33,  2.16s/it]"
     ]
    },
    {
     "name": "stdout",
     "output_type": "stream",
     "text": [
      "Epoch 68: New best model saved! Loss: 0.8547459026\n"
     ]
    },
    {
     "name": "stderr",
     "output_type": "stream",
     "text": [
      "Epoch 69 | Train: 0.214715, Val: 0.815672:  14%|████████████████▍                                                                                                      | 69/500 [02:29<15:34,  2.17s/it]"
     ]
    },
    {
     "name": "stdout",
     "output_type": "stream",
     "text": [
      "Epoch 69: New best model saved! Loss: 0.8156720943\n"
     ]
    },
    {
     "name": "stderr",
     "output_type": "stream",
     "text": [
      "Epoch 70 | Train: 0.204656, Val: 0.770201:  14%|████████████████▋                                                                                                      | 70/500 [02:31<15:27,  2.16s/it]"
     ]
    },
    {
     "name": "stdout",
     "output_type": "stream",
     "text": [
      "Epoch 70: New best model saved! Loss: 0.7702006462\n"
     ]
    },
    {
     "name": "stderr",
     "output_type": "stream",
     "text": [
      "Epoch 71 | Train: 0.194934, Val: 0.724382:  14%|████████████████▉                                                                                                      | 71/500 [02:33<15:34,  2.18s/it]"
     ]
    },
    {
     "name": "stdout",
     "output_type": "stream",
     "text": [
      "Epoch 71: New best model saved! Loss: 0.7243824022\n"
     ]
    },
    {
     "name": "stderr",
     "output_type": "stream",
     "text": [
      "Epoch 72 | Train: 0.185643, Val: 0.682190:  14%|█████████████████▏                                                                                                     | 72/500 [02:35<15:41,  2.20s/it]"
     ]
    },
    {
     "name": "stdout",
     "output_type": "stream",
     "text": [
      "Epoch 72: New best model saved! Loss: 0.6821898760\n"
     ]
    },
    {
     "name": "stderr",
     "output_type": "stream",
     "text": [
      "Epoch 73 | Train: 0.176705, Val: 0.646810:  15%|█████████████████▎                                                                                                     | 73/500 [02:38<15:42,  2.21s/it]"
     ]
    },
    {
     "name": "stdout",
     "output_type": "stream",
     "text": [
      "Epoch 73: New best model saved! Loss: 0.6468098933\n"
     ]
    },
    {
     "name": "stderr",
     "output_type": "stream",
     "text": [
      "Epoch 74 | Train: 0.168207, Val: 0.617553:  15%|█████████████████▌                                                                                                     | 74/500 [02:40<15:34,  2.19s/it]"
     ]
    },
    {
     "name": "stdout",
     "output_type": "stream",
     "text": [
      "Epoch 74: New best model saved! Loss: 0.6175527587\n"
     ]
    },
    {
     "name": "stderr",
     "output_type": "stream",
     "text": [
      "Epoch 75 | Train: 0.160065, Val: 0.580643:  15%|█████████████████▊                                                                                                     | 75/500 [02:42<15:39,  2.21s/it]"
     ]
    },
    {
     "name": "stdout",
     "output_type": "stream",
     "text": [
      "Epoch 75: New best model saved! Loss: 0.5806425988\n"
     ]
    },
    {
     "name": "stderr",
     "output_type": "stream",
     "text": [
      "Epoch 76 | Train: 0.152293, Val: 0.547124:  15%|██████████████████                                                                                                     | 76/500 [02:44<15:22,  2.18s/it]"
     ]
    },
    {
     "name": "stdout",
     "output_type": "stream",
     "text": [
      "Epoch 76: New best model saved! Loss: 0.5471243921\n"
     ]
    },
    {
     "name": "stderr",
     "output_type": "stream",
     "text": [
      "Epoch 77 | Train: 0.144865, Val: 0.527824:  15%|██████████████████▎                                                                                                    | 77/500 [02:46<15:29,  2.20s/it]"
     ]
    },
    {
     "name": "stdout",
     "output_type": "stream",
     "text": [
      "Epoch 77: New best model saved! Loss: 0.5278235608\n"
     ]
    },
    {
     "name": "stderr",
     "output_type": "stream",
     "text": [
      "Epoch 78 | Train: 0.137867, Val: 0.494572:  16%|██████████████████▌                                                                                                    | 78/500 [02:48<15:10,  2.16s/it]"
     ]
    },
    {
     "name": "stdout",
     "output_type": "stream",
     "text": [
      "Epoch 78: New best model saved! Loss: 0.4945715655\n"
     ]
    },
    {
     "name": "stderr",
     "output_type": "stream",
     "text": [
      "Epoch 79 | Train: 0.131220, Val: 0.469163:  16%|██████████████████▊                                                                                                    | 79/500 [02:51<15:07,  2.16s/it]"
     ]
    },
    {
     "name": "stdout",
     "output_type": "stream",
     "text": [
      "Epoch 79: New best model saved! Loss: 0.4691632188\n"
     ]
    },
    {
     "name": "stderr",
     "output_type": "stream",
     "text": [
      "Epoch 80 | Train: 0.124958, Val: 0.447930:  16%|███████████████████                                                                                                    | 80/500 [02:53<15:25,  2.20s/it]"
     ]
    },
    {
     "name": "stdout",
     "output_type": "stream",
     "text": [
      "Epoch 80: New best model saved! Loss: 0.4479300978\n"
     ]
    },
    {
     "name": "stderr",
     "output_type": "stream",
     "text": [
      "Epoch 81 | Train: 0.119011, Val: 0.426594:  16%|███████████████████▎                                                                                                   | 81/500 [02:55<15:16,  2.19s/it]"
     ]
    },
    {
     "name": "stdout",
     "output_type": "stream",
     "text": [
      "Epoch 81: New best model saved! Loss: 0.4265944054\n"
     ]
    },
    {
     "name": "stderr",
     "output_type": "stream",
     "text": [
      "Epoch 82 | Train: 0.113446, Val: 0.406095:  16%|███████████████████▌                                                                                                   | 82/500 [02:57<15:39,  2.25s/it]"
     ]
    },
    {
     "name": "stdout",
     "output_type": "stream",
     "text": [
      "Epoch 82: New best model saved! Loss: 0.4060948826\n"
     ]
    },
    {
     "name": "stderr",
     "output_type": "stream",
     "text": [
      "Epoch 83 | Train: 0.108194, Val: 0.388875:  17%|███████████████████▊                                                                                                   | 83/500 [03:00<15:51,  2.28s/it]"
     ]
    },
    {
     "name": "stdout",
     "output_type": "stream",
     "text": [
      "Epoch 83: New best model saved! Loss: 0.3888749924\n"
     ]
    },
    {
     "name": "stderr",
     "output_type": "stream",
     "text": [
      "Epoch 84 | Train: 0.103329, Val: 0.370582:  17%|███████████████████▉                                                                                                   | 84/500 [03:02<15:57,  2.30s/it]"
     ]
    },
    {
     "name": "stdout",
     "output_type": "stream",
     "text": [
      "Epoch 84: New best model saved! Loss: 0.3705819644\n"
     ]
    },
    {
     "name": "stderr",
     "output_type": "stream",
     "text": [
      "Epoch 85 | Train: 0.098772, Val: 0.355439:  17%|████████████████████▏                                                                                                  | 85/500 [03:04<15:27,  2.24s/it]"
     ]
    },
    {
     "name": "stdout",
     "output_type": "stream",
     "text": [
      "Epoch 85: New best model saved! Loss: 0.3554391260\n"
     ]
    },
    {
     "name": "stderr",
     "output_type": "stream",
     "text": [
      "Epoch 86 | Train: 0.094544, Val: 0.339878:  17%|████████████████████▍                                                                                                  | 86/500 [03:06<15:21,  2.22s/it]"
     ]
    },
    {
     "name": "stdout",
     "output_type": "stream",
     "text": [
      "Epoch 86: New best model saved! Loss: 0.3398783517\n"
     ]
    },
    {
     "name": "stderr",
     "output_type": "stream",
     "text": [
      "Epoch 87 | Train: 0.090625, Val: 0.325646:  17%|████████████████████▋                                                                                                  | 87/500 [03:08<14:53,  2.16s/it]"
     ]
    },
    {
     "name": "stdout",
     "output_type": "stream",
     "text": [
      "Epoch 87: New best model saved! Loss: 0.3256460298\n"
     ]
    },
    {
     "name": "stderr",
     "output_type": "stream",
     "text": [
      "Epoch 88 | Train: 0.086987, Val: 0.315145:  18%|████████████████████▉                                                                                                  | 88/500 [03:10<14:22,  2.09s/it]"
     ]
    },
    {
     "name": "stdout",
     "output_type": "stream",
     "text": [
      "Epoch 88: New best model saved! Loss: 0.3151449303\n"
     ]
    },
    {
     "name": "stderr",
     "output_type": "stream",
     "text": [
      "Epoch 89 | Train: 0.083661, Val: 0.302596:  18%|█████████████████████▏                                                                                                 | 89/500 [03:12<14:13,  2.08s/it]"
     ]
    },
    {
     "name": "stdout",
     "output_type": "stream",
     "text": [
      "Epoch 89: New best model saved! Loss: 0.3025957948\n"
     ]
    },
    {
     "name": "stderr",
     "output_type": "stream",
     "text": [
      "Epoch 90 | Train: 0.080587, Val: 0.290785:  18%|█████████████████████▍                                                                                                 | 90/500 [03:14<13:56,  2.04s/it]"
     ]
    },
    {
     "name": "stdout",
     "output_type": "stream",
     "text": [
      "Epoch 90: New best model saved! Loss: 0.2907854571\n"
     ]
    },
    {
     "name": "stderr",
     "output_type": "stream",
     "text": [
      "Epoch 91 | Train: 0.077790, Val: 0.279528:  18%|█████████████████████▋                                                                                                 | 91/500 [03:16<13:42,  2.01s/it]"
     ]
    },
    {
     "name": "stdout",
     "output_type": "stream",
     "text": [
      "Epoch 91: New best model saved! Loss: 0.2795282844\n"
     ]
    },
    {
     "name": "stderr",
     "output_type": "stream",
     "text": [
      "Epoch 92 | Train: 0.075203, Val: 0.270837:  18%|█████████████████████▉                                                                                                 | 92/500 [03:18<13:50,  2.03s/it]"
     ]
    },
    {
     "name": "stdout",
     "output_type": "stream",
     "text": [
      "Epoch 92: New best model saved! Loss: 0.2708372953\n"
     ]
    },
    {
     "name": "stderr",
     "output_type": "stream",
     "text": [
      "Epoch 93 | Train: 0.072860, Val: 0.262533:  19%|██████████████████████▏                                                                                                | 93/500 [03:20<13:30,  1.99s/it]"
     ]
    },
    {
     "name": "stdout",
     "output_type": "stream",
     "text": [
      "Epoch 93: New best model saved! Loss: 0.2625327898\n"
     ]
    },
    {
     "name": "stderr",
     "output_type": "stream",
     "text": [
      "Epoch 94 | Train: 0.070729, Val: 0.253669:  19%|██████████████████████▎                                                                                                | 94/500 [03:22<13:16,  1.96s/it]"
     ]
    },
    {
     "name": "stdout",
     "output_type": "stream",
     "text": [
      "Epoch 94: New best model saved! Loss: 0.2536687397\n"
     ]
    },
    {
     "name": "stderr",
     "output_type": "stream",
     "text": [
      "Epoch 95 | Train: 0.068770, Val: 0.248138:  19%|██████████████████████▌                                                                                                | 95/500 [03:24<12:56,  1.92s/it]"
     ]
    },
    {
     "name": "stdout",
     "output_type": "stream",
     "text": [
      "Epoch 95: New best model saved! Loss: 0.2481377561\n"
     ]
    },
    {
     "name": "stderr",
     "output_type": "stream",
     "text": [
      "Epoch 96 | Train: 0.067007, Val: 0.240532:  19%|██████████████████████▊                                                                                                | 96/500 [03:26<13:03,  1.94s/it]"
     ]
    },
    {
     "name": "stdout",
     "output_type": "stream",
     "text": [
      "Epoch 96: New best model saved! Loss: 0.2405315807\n"
     ]
    },
    {
     "name": "stderr",
     "output_type": "stream",
     "text": [
      "Epoch 97 | Train: 0.065437, Val: 0.231975:  19%|███████████████████████                                                                                                | 97/500 [03:28<13:17,  1.98s/it]"
     ]
    },
    {
     "name": "stdout",
     "output_type": "stream",
     "text": [
      "Epoch 97: New best model saved! Loss: 0.2319747347\n"
     ]
    },
    {
     "name": "stderr",
     "output_type": "stream",
     "text": [
      "Epoch 98 | Train: 0.063960, Val: 0.226065:  20%|███████████████████████▎                                                                                               | 98/500 [03:30<13:32,  2.02s/it]"
     ]
    },
    {
     "name": "stdout",
     "output_type": "stream",
     "text": [
      "Epoch 98: New best model saved! Loss: 0.2260654474\n"
     ]
    },
    {
     "name": "stderr",
     "output_type": "stream",
     "text": [
      "Epoch 99 | Train: 0.062586, Val: 0.220648:  20%|███████████████████████▌                                                                                               | 99/500 [03:32<13:39,  2.04s/it]"
     ]
    },
    {
     "name": "stdout",
     "output_type": "stream",
     "text": [
      "Epoch 99: New best model saved! Loss: 0.2206480225\n"
     ]
    },
    {
     "name": "stderr",
     "output_type": "stream",
     "text": [
      "Epoch 100 | Train: 0.061412, Val: 0.214484:  20%|███████████████████████▍                                                                                             | 100/500 [03:34<13:16,  1.99s/it]"
     ]
    },
    {
     "name": "stdout",
     "output_type": "stream",
     "text": [
      "Epoch 100: New best model saved! Loss: 0.2144840283\n"
     ]
    },
    {
     "name": "stderr",
     "output_type": "stream",
     "text": [
      "Epoch 101 | Train: 0.060291, Val: 0.212264:  20%|███████████████████████▋                                                                                             | 101/500 [03:36<13:05,  1.97s/it]"
     ]
    },
    {
     "name": "stdout",
     "output_type": "stream",
     "text": [
      "Epoch 101: New best model saved! Loss: 0.2122640237\n"
     ]
    },
    {
     "name": "stderr",
     "output_type": "stream",
     "text": [
      "Epoch 102 | Train: 0.059251, Val: 0.205539:  20%|███████████████████████▊                                                                                             | 102/500 [03:38<12:41,  1.91s/it]"
     ]
    },
    {
     "name": "stdout",
     "output_type": "stream",
     "text": [
      "Epoch 102: New best model saved! Loss: 0.2055391615\n"
     ]
    },
    {
     "name": "stderr",
     "output_type": "stream",
     "text": [
      "Epoch 103 | Train: 0.058324, Val: 0.203770:  21%|████████████████████████                                                                                             | 103/500 [03:40<12:47,  1.93s/it]"
     ]
    },
    {
     "name": "stdout",
     "output_type": "stream",
     "text": [
      "Epoch 103: New best model saved! Loss: 0.2037703339\n"
     ]
    },
    {
     "name": "stderr",
     "output_type": "stream",
     "text": [
      "Epoch 104 | Train: 0.057401, Val: 0.199704:  21%|████████████████████████▎                                                                                            | 104/500 [03:42<12:50,  1.95s/it]"
     ]
    },
    {
     "name": "stdout",
     "output_type": "stream",
     "text": [
      "Epoch 104: New best model saved! Loss: 0.1997044260\n"
     ]
    },
    {
     "name": "stderr",
     "output_type": "stream",
     "text": [
      "Epoch 105 | Train: 0.056584, Val: 0.195494:  21%|████████████████████████▌                                                                                            | 105/500 [03:44<12:42,  1.93s/it]"
     ]
    },
    {
     "name": "stdout",
     "output_type": "stream",
     "text": [
      "Epoch 105: New best model saved! Loss: 0.1954942071\n"
     ]
    },
    {
     "name": "stderr",
     "output_type": "stream",
     "text": [
      "Epoch 106 | Train: 0.055792, Val: 0.190672:  21%|████████████████████████▊                                                                                            | 106/500 [03:46<12:48,  1.95s/it]"
     ]
    },
    {
     "name": "stdout",
     "output_type": "stream",
     "text": [
      "Epoch 106: New best model saved! Loss: 0.1906720349\n"
     ]
    },
    {
     "name": "stderr",
     "output_type": "stream",
     "text": [
      "Epoch 107 | Train: 0.055052, Val: 0.187903:  21%|█████████████████████████                                                                                            | 107/500 [03:48<12:37,  1.93s/it]"
     ]
    },
    {
     "name": "stdout",
     "output_type": "stream",
     "text": [
      "Epoch 107: New best model saved! Loss: 0.1879025791\n"
     ]
    },
    {
     "name": "stderr",
     "output_type": "stream",
     "text": [
      "Epoch 108 | Train: 0.054345, Val: 0.182755:  22%|█████████████████████████▎                                                                                           | 108/500 [03:50<12:47,  1.96s/it]"
     ]
    },
    {
     "name": "stdout",
     "output_type": "stream",
     "text": [
      "Epoch 108: New best model saved! Loss: 0.1827548363\n"
     ]
    },
    {
     "name": "stderr",
     "output_type": "stream",
     "text": [
      "Epoch 109 | Train: 0.053624, Val: 0.181771:  22%|█████████████████████████▌                                                                                           | 109/500 [03:52<13:01,  2.00s/it]"
     ]
    },
    {
     "name": "stdout",
     "output_type": "stream",
     "text": [
      "Epoch 109: New best model saved! Loss: 0.1817710601\n"
     ]
    },
    {
     "name": "stderr",
     "output_type": "stream",
     "text": [
      "Epoch 110 | Train: 0.052944, Val: 0.179199:  22%|█████████████████████████▋                                                                                           | 110/500 [03:54<13:25,  2.07s/it]"
     ]
    },
    {
     "name": "stdout",
     "output_type": "stream",
     "text": [
      "Epoch 110: New best model saved! Loss: 0.1791991689\n"
     ]
    },
    {
     "name": "stderr",
     "output_type": "stream",
     "text": [
      "Epoch 111 | Train: 0.052292, Val: 0.178644:  22%|█████████████████████████▉                                                                                           | 111/500 [03:56<13:39,  2.11s/it]"
     ]
    },
    {
     "name": "stdout",
     "output_type": "stream",
     "text": [
      "Epoch 111: New best model saved! Loss: 0.1786438919\n"
     ]
    },
    {
     "name": "stderr",
     "output_type": "stream",
     "text": [
      "Epoch 112 | Train: 0.051628, Val: 0.172510:  22%|██████████████████████████▏                                                                                          | 112/500 [03:58<13:49,  2.14s/it]"
     ]
    },
    {
     "name": "stdout",
     "output_type": "stream",
     "text": [
      "Epoch 112: New best model saved! Loss: 0.1725099874\n"
     ]
    },
    {
     "name": "stderr",
     "output_type": "stream",
     "text": [
      "Epoch 113 | Train: 0.050962, Val: 0.171513:  23%|██████████████████████████▍                                                                                          | 113/500 [04:01<14:03,  2.18s/it]"
     ]
    },
    {
     "name": "stdout",
     "output_type": "stream",
     "text": [
      "Epoch 113: New best model saved! Loss: 0.1715128666\n"
     ]
    },
    {
     "name": "stderr",
     "output_type": "stream",
     "text": [
      "Epoch 114 | Train: 0.050295, Val: 0.169121:  23%|██████████████████████████▋                                                                                          | 114/500 [04:03<14:03,  2.19s/it]"
     ]
    },
    {
     "name": "stdout",
     "output_type": "stream",
     "text": [
      "Epoch 114: New best model saved! Loss: 0.1691210289\n"
     ]
    },
    {
     "name": "stderr",
     "output_type": "stream",
     "text": [
      "Epoch 115 | Train: 0.049645, Val: 0.165419:  23%|██████████████████████████▉                                                                                          | 115/500 [04:05<13:50,  2.16s/it]"
     ]
    },
    {
     "name": "stdout",
     "output_type": "stream",
     "text": [
      "Epoch 115: New best model saved! Loss: 0.1654186972\n"
     ]
    },
    {
     "name": "stderr",
     "output_type": "stream",
     "text": [
      "Epoch 116 | Train: 0.049015, Val: 0.162353:  23%|███████████████████████████▏                                                                                         | 116/500 [04:07<13:47,  2.15s/it]"
     ]
    },
    {
     "name": "stdout",
     "output_type": "stream",
     "text": [
      "Epoch 116: New best model saved! Loss: 0.1623529870\n"
     ]
    },
    {
     "name": "stderr",
     "output_type": "stream",
     "text": [
      "Epoch 118 | Train: 0.047708, Val: 0.160287:  24%|███████████████████████████▌                                                                                         | 118/500 [04:11<13:29,  2.12s/it]"
     ]
    },
    {
     "name": "stdout",
     "output_type": "stream",
     "text": [
      "Epoch 118: New best model saved! Loss: 0.1602872235\n"
     ]
    },
    {
     "name": "stderr",
     "output_type": "stream",
     "text": [
      "Epoch 119 | Train: 0.047048, Val: 0.158315:  24%|███████████████████████████▊                                                                                         | 119/500 [04:13<13:11,  2.08s/it]"
     ]
    },
    {
     "name": "stdout",
     "output_type": "stream",
     "text": [
      "Epoch 119: New best model saved! Loss: 0.1583154136\n"
     ]
    },
    {
     "name": "stderr",
     "output_type": "stream",
     "text": [
      "Epoch 120 | Train: 0.046407, Val: 0.154189:  24%|████████████████████████████                                                                                         | 120/500 [04:15<13:14,  2.09s/it]"
     ]
    },
    {
     "name": "stdout",
     "output_type": "stream",
     "text": [
      "Epoch 120: New best model saved! Loss: 0.1541888046\n"
     ]
    },
    {
     "name": "stderr",
     "output_type": "stream",
     "text": [
      "Epoch 121 | Train: 0.045734, Val: 0.151921:  24%|████████████████████████████▎                                                                                        | 121/500 [04:17<12:54,  2.04s/it]"
     ]
    },
    {
     "name": "stdout",
     "output_type": "stream",
     "text": [
      "Epoch 121: New best model saved! Loss: 0.1519211915\n"
     ]
    },
    {
     "name": "stderr",
     "output_type": "stream",
     "text": [
      "Epoch 122 | Train: 0.045068, Val: 0.151878:  24%|████████████████████████████▌                                                                                        | 122/500 [04:19<13:08,  2.09s/it]"
     ]
    },
    {
     "name": "stdout",
     "output_type": "stream",
     "text": [
      "Epoch 122: New best model saved! Loss: 0.1518777459\n"
     ]
    },
    {
     "name": "stderr",
     "output_type": "stream",
     "text": [
      "Epoch 123 | Train: 0.044406, Val: 0.147895:  25%|████████████████████████████▊                                                                                        | 123/500 [04:22<13:08,  2.09s/it]"
     ]
    },
    {
     "name": "stdout",
     "output_type": "stream",
     "text": [
      "Epoch 123: New best model saved! Loss: 0.1478951975\n"
     ]
    },
    {
     "name": "stderr",
     "output_type": "stream",
     "text": [
      "Epoch 125 | Train: 0.043058, Val: 0.142715:  25%|█████████████████████████████▎                                                                                       | 125/500 [04:26<13:10,  2.11s/it]"
     ]
    },
    {
     "name": "stdout",
     "output_type": "stream",
     "text": [
      "Epoch 125: New best model saved! Loss: 0.1427154841\n"
     ]
    },
    {
     "name": "stderr",
     "output_type": "stream",
     "text": [
      "Epoch 126 | Train: 0.042378, Val: 0.140073:  25%|█████████████████████████████▍                                                                                       | 126/500 [04:28<13:44,  2.20s/it]"
     ]
    },
    {
     "name": "stdout",
     "output_type": "stream",
     "text": [
      "Epoch 126: New best model saved! Loss: 0.1400733502\n"
     ]
    },
    {
     "name": "stderr",
     "output_type": "stream",
     "text": [
      "Epoch 127 | Train: 0.041706, Val: 0.138920:  25%|█████████████████████████████▋                                                                                       | 127/500 [04:31<14:20,  2.31s/it]"
     ]
    },
    {
     "name": "stdout",
     "output_type": "stream",
     "text": [
      "Epoch 127: New best model saved! Loss: 0.1389199952\n"
     ]
    },
    {
     "name": "stderr",
     "output_type": "stream",
     "text": [
      "Epoch 128 | Train: 0.041019, Val: 0.138188:  26%|█████████████████████████████▉                                                                                       | 128/500 [04:34<15:55,  2.57s/it]"
     ]
    },
    {
     "name": "stdout",
     "output_type": "stream",
     "text": [
      "Epoch 128: New best model saved! Loss: 0.1381880933\n"
     ]
    },
    {
     "name": "stderr",
     "output_type": "stream",
     "text": [
      "Epoch 129 | Train: 0.040345, Val: 0.133044:  26%|██████████████████████████████▏                                                                                      | 129/500 [04:37<16:06,  2.61s/it]"
     ]
    },
    {
     "name": "stdout",
     "output_type": "stream",
     "text": [
      "Epoch 129: New best model saved! Loss: 0.1330442319\n"
     ]
    },
    {
     "name": "stderr",
     "output_type": "stream",
     "text": [
      "Epoch 130 | Train: 0.039639, Val: 0.131716:  26%|██████████████████████████████▍                                                                                      | 130/500 [04:39<15:52,  2.58s/it]"
     ]
    },
    {
     "name": "stdout",
     "output_type": "stream",
     "text": [
      "Epoch 130: New best model saved! Loss: 0.1317164768\n"
     ]
    },
    {
     "name": "stderr",
     "output_type": "stream",
     "text": [
      "Epoch 131 | Train: 0.038980, Val: 0.130264:  26%|██████████████████████████████▋                                                                                      | 131/500 [04:42<15:52,  2.58s/it]"
     ]
    },
    {
     "name": "stdout",
     "output_type": "stream",
     "text": [
      "Epoch 131: New best model saved! Loss: 0.1302642892\n"
     ]
    },
    {
     "name": "stderr",
     "output_type": "stream",
     "text": [
      "Epoch 132 | Train: 0.038266, Val: 0.127451:  26%|██████████████████████████████▉                                                                                      | 132/500 [04:44<15:40,  2.56s/it]"
     ]
    },
    {
     "name": "stdout",
     "output_type": "stream",
     "text": [
      "Epoch 132: New best model saved! Loss: 0.1274509260\n"
     ]
    },
    {
     "name": "stderr",
     "output_type": "stream",
     "text": [
      "Epoch 133 | Train: 0.037598, Val: 0.126620:  27%|███████████████████████████████                                                                                      | 133/500 [04:47<15:54,  2.60s/it]"
     ]
    },
    {
     "name": "stdout",
     "output_type": "stream",
     "text": [
      "Epoch 133: New best model saved! Loss: 0.1266201888\n"
     ]
    },
    {
     "name": "stderr",
     "output_type": "stream",
     "text": [
      "Epoch 134 | Train: 0.036923, Val: 0.123005:  27%|███████████████████████████████▎                                                                                     | 134/500 [04:49<15:36,  2.56s/it]"
     ]
    },
    {
     "name": "stdout",
     "output_type": "stream",
     "text": [
      "Epoch 134: New best model saved! Loss: 0.1230046352\n"
     ]
    },
    {
     "name": "stderr",
     "output_type": "stream",
     "text": [
      "Epoch 135 | Train: 0.036226, Val: 0.121552:  27%|███████████████████████████████▌                                                                                     | 135/500 [04:52<15:07,  2.49s/it]"
     ]
    },
    {
     "name": "stdout",
     "output_type": "stream",
     "text": [
      "Epoch 135: New best model saved! Loss: 0.1215521381\n"
     ]
    },
    {
     "name": "stderr",
     "output_type": "stream",
     "text": [
      "Epoch 136 | Train: 0.035531, Val: 0.119952:  27%|███████████████████████████████▊                                                                                     | 136/500 [04:54<14:44,  2.43s/it]"
     ]
    },
    {
     "name": "stdout",
     "output_type": "stream",
     "text": [
      "Epoch 136: New best model saved! Loss: 0.1199516800\n"
     ]
    },
    {
     "name": "stderr",
     "output_type": "stream",
     "text": [
      "Epoch 137 | Train: 0.034831, Val: 0.115896:  27%|████████████████████████████████                                                                                     | 137/500 [04:56<14:24,  2.38s/it]"
     ]
    },
    {
     "name": "stdout",
     "output_type": "stream",
     "text": [
      "Epoch 137: New best model saved! Loss: 0.1158957864\n"
     ]
    },
    {
     "name": "stderr",
     "output_type": "stream",
     "text": [
      "Epoch 138 | Train: 0.034131, Val: 0.115380:  28%|████████████████████████████████▎                                                                                    | 138/500 [04:59<14:34,  2.42s/it]"
     ]
    },
    {
     "name": "stdout",
     "output_type": "stream",
     "text": [
      "Epoch 138: New best model saved! Loss: 0.1153801780\n"
     ]
    },
    {
     "name": "stderr",
     "output_type": "stream",
     "text": [
      "Epoch 139 | Train: 0.033446, Val: 0.112403:  28%|████████████████████████████████▌                                                                                    | 139/500 [05:01<14:41,  2.44s/it]"
     ]
    },
    {
     "name": "stdout",
     "output_type": "stream",
     "text": [
      "Epoch 139: New best model saved! Loss: 0.1124031392\n"
     ]
    },
    {
     "name": "stderr",
     "output_type": "stream",
     "text": [
      "Epoch 140 | Train: 0.032759, Val: 0.110704:  28%|████████████████████████████████▊                                                                                    | 140/500 [05:04<14:43,  2.45s/it]"
     ]
    },
    {
     "name": "stdout",
     "output_type": "stream",
     "text": [
      "Epoch 140: New best model saved! Loss: 0.1107040733\n"
     ]
    },
    {
     "name": "stderr",
     "output_type": "stream",
     "text": [
      "Epoch 141 | Train: 0.032061, Val: 0.106414:  28%|████████████████████████████████▉                                                                                    | 141/500 [05:06<14:19,  2.39s/it]"
     ]
    },
    {
     "name": "stdout",
     "output_type": "stream",
     "text": [
      "Epoch 141: New best model saved! Loss: 0.1064142123\n"
     ]
    },
    {
     "name": "stderr",
     "output_type": "stream",
     "text": [
      "Epoch 142 | Train: 0.031390, Val: 0.104472:  28%|█████████████████████████████████▏                                                                                   | 142/500 [05:08<13:58,  2.34s/it]"
     ]
    },
    {
     "name": "stdout",
     "output_type": "stream",
     "text": [
      "Epoch 142: New best model saved! Loss: 0.1044716847\n"
     ]
    },
    {
     "name": "stderr",
     "output_type": "stream",
     "text": [
      "Epoch 143 | Train: 0.030700, Val: 0.103231:  29%|█████████████████████████████████▍                                                                                   | 143/500 [05:10<13:06,  2.20s/it]"
     ]
    },
    {
     "name": "stdout",
     "output_type": "stream",
     "text": [
      "Epoch 143: New best model saved! Loss: 0.1032311621\n"
     ]
    },
    {
     "name": "stderr",
     "output_type": "stream",
     "text": [
      "Epoch 144 | Train: 0.030024, Val: 0.101435:  29%|█████████████████████████████████▋                                                                                   | 144/500 [05:12<12:47,  2.16s/it]"
     ]
    },
    {
     "name": "stdout",
     "output_type": "stream",
     "text": [
      "Epoch 144: New best model saved! Loss: 0.1014352572\n"
     ]
    },
    {
     "name": "stderr",
     "output_type": "stream",
     "text": [
      "Epoch 145 | Train: 0.029338, Val: 0.099426:  29%|█████████████████████████████████▉                                                                                   | 145/500 [05:14<12:17,  2.08s/it]"
     ]
    },
    {
     "name": "stdout",
     "output_type": "stream",
     "text": [
      "Epoch 145: New best model saved! Loss: 0.0994260635\n"
     ]
    },
    {
     "name": "stderr",
     "output_type": "stream",
     "text": [
      "Epoch 146 | Train: 0.028670, Val: 0.096095:  29%|██████████████████████████████████▏                                                                                  | 146/500 [05:16<12:02,  2.04s/it]"
     ]
    },
    {
     "name": "stdout",
     "output_type": "stream",
     "text": [
      "Epoch 146: New best model saved! Loss: 0.0960952104\n"
     ]
    },
    {
     "name": "stderr",
     "output_type": "stream",
     "text": [
      "Epoch 147 | Train: 0.027970, Val: 0.094386:  29%|██████████████████████████████████▍                                                                                  | 147/500 [05:18<12:10,  2.07s/it]"
     ]
    },
    {
     "name": "stdout",
     "output_type": "stream",
     "text": [
      "Epoch 147: New best model saved! Loss: 0.0943859053\n"
     ]
    },
    {
     "name": "stderr",
     "output_type": "stream",
     "text": [
      "Epoch 148 | Train: 0.027298, Val: 0.092590:  30%|██████████████████████████████████▋                                                                                  | 148/500 [05:20<12:29,  2.13s/it]"
     ]
    },
    {
     "name": "stdout",
     "output_type": "stream",
     "text": [
      "Epoch 148: New best model saved! Loss: 0.0925904547\n"
     ]
    },
    {
     "name": "stderr",
     "output_type": "stream",
     "text": [
      "Epoch 149 | Train: 0.026652, Val: 0.090888:  30%|██████████████████████████████████▊                                                                                  | 149/500 [05:23<12:31,  2.14s/it]"
     ]
    },
    {
     "name": "stdout",
     "output_type": "stream",
     "text": [
      "Epoch 149: New best model saved! Loss: 0.0908884344\n"
     ]
    },
    {
     "name": "stderr",
     "output_type": "stream",
     "text": [
      "Epoch 150 | Train: 0.025965, Val: 0.087544:  30%|███████████████████████████████████                                                                                  | 150/500 [05:25<12:17,  2.11s/it]"
     ]
    },
    {
     "name": "stdout",
     "output_type": "stream",
     "text": [
      "Epoch 150: New best model saved! Loss: 0.0875441092\n"
     ]
    },
    {
     "name": "stderr",
     "output_type": "stream",
     "text": [
      "Epoch 151 | Train: 0.025307, Val: 0.087220:  30%|███████████████████████████████████▎                                                                                 | 151/500 [05:27<12:12,  2.10s/it]"
     ]
    },
    {
     "name": "stdout",
     "output_type": "stream",
     "text": [
      "Epoch 151: New best model saved! Loss: 0.0872202191\n"
     ]
    },
    {
     "name": "stderr",
     "output_type": "stream",
     "text": [
      "Epoch 152 | Train: 0.024658, Val: 0.084612:  30%|███████████████████████████████████▌                                                                                 | 152/500 [05:29<12:29,  2.15s/it]"
     ]
    },
    {
     "name": "stdout",
     "output_type": "stream",
     "text": [
      "Epoch 152: New best model saved! Loss: 0.0846124937\n"
     ]
    },
    {
     "name": "stderr",
     "output_type": "stream",
     "text": [
      "Epoch 153 | Train: 0.023985, Val: 0.082406:  31%|███████████████████████████████████▊                                                                                 | 153/500 [05:31<12:22,  2.14s/it]"
     ]
    },
    {
     "name": "stdout",
     "output_type": "stream",
     "text": [
      "Epoch 153: New best model saved! Loss: 0.0824061890\n"
     ]
    },
    {
     "name": "stderr",
     "output_type": "stream",
     "text": [
      "Epoch 154 | Train: 0.023338, Val: 0.080144:  31%|████████████████████████████████████                                                                                 | 154/500 [05:33<12:12,  2.12s/it]"
     ]
    },
    {
     "name": "stdout",
     "output_type": "stream",
     "text": [
      "Epoch 154: New best model saved! Loss: 0.0801438035\n"
     ]
    },
    {
     "name": "stderr",
     "output_type": "stream",
     "text": [
      "Epoch 155 | Train: 0.022704, Val: 0.077638:  31%|████████████████████████████████████▎                                                                                | 155/500 [05:35<12:06,  2.11s/it]"
     ]
    },
    {
     "name": "stdout",
     "output_type": "stream",
     "text": [
      "Epoch 155: New best model saved! Loss: 0.0776382455\n"
     ]
    },
    {
     "name": "stderr",
     "output_type": "stream",
     "text": [
      "Epoch 156 | Train: 0.022087, Val: 0.074783:  31%|████████████████████████████████████▌                                                                                | 156/500 [05:37<11:47,  2.06s/it]"
     ]
    },
    {
     "name": "stdout",
     "output_type": "stream",
     "text": [
      "Epoch 156: New best model saved! Loss: 0.0747830099\n"
     ]
    },
    {
     "name": "stderr",
     "output_type": "stream",
     "text": [
      "Epoch 157 | Train: 0.021431, Val: 0.073472:  31%|████████████████████████████████████▋                                                                                | 157/500 [05:39<11:43,  2.05s/it]"
     ]
    },
    {
     "name": "stdout",
     "output_type": "stream",
     "text": [
      "Epoch 157: New best model saved! Loss: 0.0734715459\n"
     ]
    },
    {
     "name": "stderr",
     "output_type": "stream",
     "text": [
      "Epoch 158 | Train: 0.020819, Val: 0.071023:  32%|████████████████████████████████████▉                                                                                | 158/500 [05:41<11:34,  2.03s/it]"
     ]
    },
    {
     "name": "stdout",
     "output_type": "stream",
     "text": [
      "Epoch 158: New best model saved! Loss: 0.0710228521\n"
     ]
    },
    {
     "name": "stderr",
     "output_type": "stream",
     "text": [
      "Epoch 159 | Train: 0.020187, Val: 0.069337:  32%|█████████████████████████████████████▏                                                                               | 159/500 [05:43<11:32,  2.03s/it]"
     ]
    },
    {
     "name": "stdout",
     "output_type": "stream",
     "text": [
      "Epoch 159: New best model saved! Loss: 0.0693372107\n"
     ]
    },
    {
     "name": "stderr",
     "output_type": "stream",
     "text": [
      "Epoch 161 | Train: 0.018964, Val: 0.068234:  32%|█████████████████████████████████████▋                                                                               | 161/500 [05:47<11:15,  1.99s/it]"
     ]
    },
    {
     "name": "stdout",
     "output_type": "stream",
     "text": [
      "Epoch 161: New best model saved! Loss: 0.0682337866\n"
     ]
    },
    {
     "name": "stderr",
     "output_type": "stream",
     "text": [
      "Epoch 162 | Train: 0.018372, Val: 0.064028:  32%|█████████████████████████████████████▉                                                                               | 162/500 [05:49<11:38,  2.07s/it]"
     ]
    },
    {
     "name": "stdout",
     "output_type": "stream",
     "text": [
      "Epoch 162: New best model saved! Loss: 0.0640276349\n"
     ]
    },
    {
     "name": "stderr",
     "output_type": "stream",
     "text": [
      "Epoch 163 | Train: 0.017783, Val: 0.060789:  33%|██████████████████████████████████████▏                                                                              | 163/500 [05:51<11:39,  2.08s/it]"
     ]
    },
    {
     "name": "stdout",
     "output_type": "stream",
     "text": [
      "Epoch 163: New best model saved! Loss: 0.0607892515\n"
     ]
    },
    {
     "name": "stderr",
     "output_type": "stream",
     "text": [
      "Epoch 164 | Train: 0.017207, Val: 0.059517:  33%|██████████████████████████████████████▍                                                                              | 164/500 [05:54<11:49,  2.11s/it]"
     ]
    },
    {
     "name": "stdout",
     "output_type": "stream",
     "text": [
      "Epoch 164: New best model saved! Loss: 0.0595169606\n"
     ]
    },
    {
     "name": "stderr",
     "output_type": "stream",
     "text": [
      "Epoch 165 | Train: 0.016620, Val: 0.058117:  33%|██████████████████████████████████████▌                                                                              | 165/500 [05:56<11:48,  2.12s/it]"
     ]
    },
    {
     "name": "stdout",
     "output_type": "stream",
     "text": [
      "Epoch 165: New best model saved! Loss: 0.0581167782\n"
     ]
    },
    {
     "name": "stderr",
     "output_type": "stream",
     "text": [
      "Epoch 166 | Train: 0.016063, Val: 0.057725:  33%|██████████████████████████████████████▊                                                                              | 166/500 [05:58<12:09,  2.18s/it]"
     ]
    },
    {
     "name": "stdout",
     "output_type": "stream",
     "text": [
      "Epoch 166: New best model saved! Loss: 0.0577247512\n"
     ]
    },
    {
     "name": "stderr",
     "output_type": "stream",
     "text": [
      "Epoch 167 | Train: 0.015509, Val: 0.055192:  33%|███████████████████████████████████████                                                                              | 167/500 [06:00<12:19,  2.22s/it]"
     ]
    },
    {
     "name": "stdout",
     "output_type": "stream",
     "text": [
      "Epoch 167: New best model saved! Loss: 0.0551916525\n"
     ]
    },
    {
     "name": "stderr",
     "output_type": "stream",
     "text": [
      "Epoch 168 | Train: 0.014969, Val: 0.053815:  34%|███████████████████████████████████████▎                                                                             | 168/500 [06:03<12:38,  2.29s/it]"
     ]
    },
    {
     "name": "stdout",
     "output_type": "stream",
     "text": [
      "Epoch 168: New best model saved! Loss: 0.0538146920\n"
     ]
    },
    {
     "name": "stderr",
     "output_type": "stream",
     "text": [
      "Epoch 169 | Train: 0.014425, Val: 0.051408:  34%|███████████████████████████████████████▌                                                                             | 169/500 [06:05<12:40,  2.30s/it]"
     ]
    },
    {
     "name": "stdout",
     "output_type": "stream",
     "text": [
      "Epoch 169: New best model saved! Loss: 0.0514082320\n"
     ]
    },
    {
     "name": "stderr",
     "output_type": "stream",
     "text": [
      "Epoch 170 | Train: 0.013897, Val: 0.049302:  34%|███████████████████████████████████████▊                                                                             | 170/500 [06:07<12:30,  2.27s/it]"
     ]
    },
    {
     "name": "stdout",
     "output_type": "stream",
     "text": [
      "Epoch 170: New best model saved! Loss: 0.0493017179\n"
     ]
    },
    {
     "name": "stderr",
     "output_type": "stream",
     "text": [
      "Epoch 171 | Train: 0.013402, Val: 0.049231:  34%|████████████████████████████████████████                                                                             | 171/500 [06:10<12:32,  2.29s/it]"
     ]
    },
    {
     "name": "stdout",
     "output_type": "stream",
     "text": [
      "Epoch 171: New best model saved! Loss: 0.0492312818\n"
     ]
    },
    {
     "name": "stderr",
     "output_type": "stream",
     "text": [
      "Epoch 172 | Train: 0.012894, Val: 0.046104:  34%|████████████████████████████████████████▏                                                                            | 172/500 [06:12<12:12,  2.23s/it]"
     ]
    },
    {
     "name": "stdout",
     "output_type": "stream",
     "text": [
      "Epoch 172: New best model saved! Loss: 0.0461043149\n"
     ]
    },
    {
     "name": "stderr",
     "output_type": "stream",
     "text": [
      "Epoch 173 | Train: 0.012399, Val: 0.045748:  35%|████████████████████████████████████████▍                                                                            | 173/500 [06:14<12:05,  2.22s/it]"
     ]
    },
    {
     "name": "stdout",
     "output_type": "stream",
     "text": [
      "Epoch 173: New best model saved! Loss: 0.0457477067\n"
     ]
    },
    {
     "name": "stderr",
     "output_type": "stream",
     "text": [
      "Epoch 174 | Train: 0.011921, Val: 0.043530:  35%|████████████████████████████████████████▋                                                                            | 174/500 [06:16<11:59,  2.21s/it]"
     ]
    },
    {
     "name": "stdout",
     "output_type": "stream",
     "text": [
      "Epoch 174: New best model saved! Loss: 0.0435299952\n"
     ]
    },
    {
     "name": "stderr",
     "output_type": "stream",
     "text": [
      "Epoch 175 | Train: 0.011446, Val: 0.042086:  35%|████████████████████████████████████████▉                                                                            | 175/500 [06:18<11:49,  2.18s/it]"
     ]
    },
    {
     "name": "stdout",
     "output_type": "stream",
     "text": [
      "Epoch 175: New best model saved! Loss: 0.0420860620\n"
     ]
    },
    {
     "name": "stderr",
     "output_type": "stream",
     "text": [
      "Epoch 176 | Train: 0.010990, Val: 0.039528:  35%|█████████████████████████████████████████▏                                                                           | 176/500 [06:21<11:53,  2.20s/it]"
     ]
    },
    {
     "name": "stdout",
     "output_type": "stream",
     "text": [
      "Epoch 176: New best model saved! Loss: 0.0395283639\n"
     ]
    },
    {
     "name": "stderr",
     "output_type": "stream",
     "text": [
      "Epoch 178 | Train: 0.010115, Val: 0.038852:  36%|█████████████████████████████████████████▋                                                                           | 178/500 [06:25<12:00,  2.24s/it]"
     ]
    },
    {
     "name": "stdout",
     "output_type": "stream",
     "text": [
      "Epoch 178: New best model saved! Loss: 0.0388519188\n"
     ]
    },
    {
     "name": "stderr",
     "output_type": "stream",
     "text": [
      "Epoch 179 | Train: 0.009708, Val: 0.036723:  36%|█████████████████████████████████████████▉                                                                           | 179/500 [06:27<12:16,  2.29s/it]"
     ]
    },
    {
     "name": "stdout",
     "output_type": "stream",
     "text": [
      "Epoch 179: New best model saved! Loss: 0.0367228888\n"
     ]
    },
    {
     "name": "stderr",
     "output_type": "stream",
     "text": [
      "Epoch 180 | Train: 0.009299, Val: 0.035384:  36%|██████████████████████████████████████████                                                                           | 180/500 [06:30<12:39,  2.37s/it]"
     ]
    },
    {
     "name": "stdout",
     "output_type": "stream",
     "text": [
      "Epoch 180: New best model saved! Loss: 0.0353839062\n"
     ]
    },
    {
     "name": "stderr",
     "output_type": "stream",
     "text": [
      "Epoch 181 | Train: 0.008908, Val: 0.033756:  36%|██████████████████████████████████████████▎                                                                          | 181/500 [06:33<12:49,  2.41s/it]"
     ]
    },
    {
     "name": "stdout",
     "output_type": "stream",
     "text": [
      "Epoch 181: New best model saved! Loss: 0.0337560996\n"
     ]
    },
    {
     "name": "stderr",
     "output_type": "stream",
     "text": [
      "Epoch 182 | Train: 0.008527, Val: 0.032736:  36%|██████████████████████████████████████████▌                                                                          | 182/500 [06:35<12:38,  2.39s/it]"
     ]
    },
    {
     "name": "stdout",
     "output_type": "stream",
     "text": [
      "Epoch 182: New best model saved! Loss: 0.0327362318\n"
     ]
    },
    {
     "name": "stderr",
     "output_type": "stream",
     "text": [
      "Epoch 183 | Train: 0.008155, Val: 0.031512:  37%|██████████████████████████████████████████▊                                                                          | 183/500 [06:37<12:32,  2.37s/it]"
     ]
    },
    {
     "name": "stdout",
     "output_type": "stream",
     "text": [
      "Epoch 183: New best model saved! Loss: 0.0315120445\n"
     ]
    },
    {
     "name": "stderr",
     "output_type": "stream",
     "text": [
      "Epoch 184 | Train: 0.007816, Val: 0.030491:  37%|███████████████████████████████████████████                                                                          | 184/500 [06:39<12:19,  2.34s/it]"
     ]
    },
    {
     "name": "stdout",
     "output_type": "stream",
     "text": [
      "Epoch 184: New best model saved! Loss: 0.0304912832\n"
     ]
    },
    {
     "name": "stderr",
     "output_type": "stream",
     "text": [
      "Epoch 185 | Train: 0.007465, Val: 0.028626:  37%|███████████████████████████████████████████▎                                                                         | 185/500 [06:42<12:01,  2.29s/it]"
     ]
    },
    {
     "name": "stdout",
     "output_type": "stream",
     "text": [
      "Epoch 185: New best model saved! Loss: 0.0286256053\n"
     ]
    },
    {
     "name": "stderr",
     "output_type": "stream",
     "text": [
      "Epoch 186 | Train: 0.007144, Val: 0.028381:  37%|███████████████████████████████████████████▌                                                                         | 186/500 [06:44<12:11,  2.33s/it]"
     ]
    },
    {
     "name": "stdout",
     "output_type": "stream",
     "text": [
      "Epoch 186: New best model saved! Loss: 0.0283806936\n"
     ]
    },
    {
     "name": "stderr",
     "output_type": "stream",
     "text": [
      "Epoch 187 | Train: 0.006825, Val: 0.026160:  37%|███████████████████████████████████████████▊                                                                         | 187/500 [06:46<11:58,  2.30s/it]"
     ]
    },
    {
     "name": "stdout",
     "output_type": "stream",
     "text": [
      "Epoch 187: New best model saved! Loss: 0.0261597091\n"
     ]
    },
    {
     "name": "stderr",
     "output_type": "stream",
     "text": [
      "Epoch 188 | Train: 0.006532, Val: 0.026116:  38%|███████████████████████████████████████████▉                                                                         | 188/500 [06:49<11:55,  2.29s/it]"
     ]
    },
    {
     "name": "stdout",
     "output_type": "stream",
     "text": [
      "Epoch 188: New best model saved! Loss: 0.0261160630\n"
     ]
    },
    {
     "name": "stderr",
     "output_type": "stream",
     "text": [
      "Epoch 189 | Train: 0.006248, Val: 0.025037:  38%|████████████████████████████████████████████▏                                                                        | 189/500 [06:51<11:36,  2.24s/it]"
     ]
    },
    {
     "name": "stdout",
     "output_type": "stream",
     "text": [
      "Epoch 189: New best model saved! Loss: 0.0250374232\n"
     ]
    },
    {
     "name": "stderr",
     "output_type": "stream",
     "text": [
      "Epoch 190 | Train: 0.005979, Val: 0.024364:  38%|████████████████████████████████████████████▍                                                                        | 190/500 [06:53<11:32,  2.24s/it]"
     ]
    },
    {
     "name": "stdout",
     "output_type": "stream",
     "text": [
      "Epoch 190: New best model saved! Loss: 0.0243637930\n"
     ]
    },
    {
     "name": "stderr",
     "output_type": "stream",
     "text": [
      "Epoch 191 | Train: 0.005706, Val: 0.022386:  38%|████████████████████████████████████████████▋                                                                        | 191/500 [06:55<11:26,  2.22s/it]"
     ]
    },
    {
     "name": "stdout",
     "output_type": "stream",
     "text": [
      "Epoch 191: New best model saved! Loss: 0.0223858778\n"
     ]
    },
    {
     "name": "stderr",
     "output_type": "stream",
     "text": [
      "Epoch 192 | Train: 0.005461, Val: 0.022071:  38%|████████████████████████████████████████████▉                                                                        | 192/500 [06:57<11:32,  2.25s/it]"
     ]
    },
    {
     "name": "stdout",
     "output_type": "stream",
     "text": [
      "Epoch 192: New best model saved! Loss: 0.0220710082\n"
     ]
    },
    {
     "name": "stderr",
     "output_type": "stream",
     "text": [
      "Epoch 193 | Train: 0.005231, Val: 0.020785:  39%|█████████████████████████████████████████████▏                                                                       | 193/500 [07:00<11:50,  2.31s/it]"
     ]
    },
    {
     "name": "stdout",
     "output_type": "stream",
     "text": [
      "Epoch 193: New best model saved! Loss: 0.0207853834\n"
     ]
    },
    {
     "name": "stderr",
     "output_type": "stream",
     "text": [
      "Epoch 194 | Train: 0.005002, Val: 0.020208:  39%|█████████████████████████████████████████████▍                                                                       | 194/500 [07:02<11:51,  2.33s/it]"
     ]
    },
    {
     "name": "stdout",
     "output_type": "stream",
     "text": [
      "Epoch 194: New best model saved! Loss: 0.0202084717\n"
     ]
    },
    {
     "name": "stderr",
     "output_type": "stream",
     "text": [
      "Epoch 195 | Train: 0.004788, Val: 0.019091:  39%|█████████████████████████████████████████████▋                                                                       | 195/500 [07:05<11:50,  2.33s/it]"
     ]
    },
    {
     "name": "stdout",
     "output_type": "stream",
     "text": [
      "Epoch 195: New best model saved! Loss: 0.0190910838\n"
     ]
    },
    {
     "name": "stderr",
     "output_type": "stream",
     "text": [
      "Epoch 196 | Train: 0.004584, Val: 0.018384:  39%|█████████████████████████████████████████████▊                                                                       | 196/500 [07:07<11:48,  2.33s/it]"
     ]
    },
    {
     "name": "stdout",
     "output_type": "stream",
     "text": [
      "Epoch 196: New best model saved! Loss: 0.0183844927\n"
     ]
    },
    {
     "name": "stderr",
     "output_type": "stream",
     "text": [
      "Epoch 197 | Train: 0.004392, Val: 0.017529:  39%|██████████████████████████████████████████████                                                                       | 197/500 [07:09<11:24,  2.26s/it]"
     ]
    },
    {
     "name": "stdout",
     "output_type": "stream",
     "text": [
      "Epoch 197: New best model saved! Loss: 0.0175290252\n"
     ]
    },
    {
     "name": "stderr",
     "output_type": "stream",
     "text": [
      "Epoch 198 | Train: 0.004200, Val: 0.017448:  40%|██████████████████████████████████████████████▎                                                                      | 198/500 [07:11<11:08,  2.21s/it]"
     ]
    },
    {
     "name": "stdout",
     "output_type": "stream",
     "text": [
      "Epoch 198: New best model saved! Loss: 0.0174476379\n"
     ]
    },
    {
     "name": "stderr",
     "output_type": "stream",
     "text": [
      "Epoch 199 | Train: 0.004031, Val: 0.016775:  40%|██████████████████████████████████████████████▌                                                                      | 199/500 [07:13<10:51,  2.16s/it]"
     ]
    },
    {
     "name": "stdout",
     "output_type": "stream",
     "text": [
      "Epoch 199: New best model saved! Loss: 0.0167753260\n"
     ]
    },
    {
     "name": "stderr",
     "output_type": "stream",
     "text": [
      "Epoch 200 | Train: 0.003869, Val: 0.015833:  40%|██████████████████████████████████████████████▊                                                                      | 200/500 [07:15<10:37,  2.12s/it]"
     ]
    },
    {
     "name": "stdout",
     "output_type": "stream",
     "text": [
      "Epoch 200: New best model saved! Loss: 0.0158333280\n"
     ]
    },
    {
     "name": "stderr",
     "output_type": "stream",
     "text": [
      "Epoch 201 | Train: 0.003712, Val: 0.014862:  40%|███████████████████████████████████████████████                                                                      | 201/500 [07:17<10:18,  2.07s/it]"
     ]
    },
    {
     "name": "stdout",
     "output_type": "stream",
     "text": [
      "Epoch 201: New best model saved! Loss: 0.0148623274\n"
     ]
    },
    {
     "name": "stderr",
     "output_type": "stream",
     "text": [
      "Epoch 202 | Train: 0.003570, Val: 0.014526:  40%|███████████████████████████████████████████████▎                                                                     | 202/500 [07:19<10:04,  2.03s/it]"
     ]
    },
    {
     "name": "stdout",
     "output_type": "stream",
     "text": [
      "Epoch 202: New best model saved! Loss: 0.0145259494\n"
     ]
    },
    {
     "name": "stderr",
     "output_type": "stream",
     "text": [
      "Epoch 204 | Train: 0.003294, Val: 0.013366:  41%|███████████████████████████████████████████████▋                                                                     | 204/500 [07:23<09:47,  1.99s/it]"
     ]
    },
    {
     "name": "stdout",
     "output_type": "stream",
     "text": [
      "Epoch 204: New best model saved! Loss: 0.0133655499\n"
     ]
    },
    {
     "name": "stderr",
     "output_type": "stream",
     "text": [
      "Epoch 205 | Train: 0.003173, Val: 0.012185:  41%|███████████████████████████████████████████████▉                                                                     | 205/500 [07:25<10:00,  2.03s/it]"
     ]
    },
    {
     "name": "stdout",
     "output_type": "stream",
     "text": [
      "Epoch 205: New best model saved! Loss: 0.0121848550\n"
     ]
    },
    {
     "name": "stderr",
     "output_type": "stream",
     "text": [
      "Epoch 207 | Train: 0.002953, Val: 0.010944:  41%|████████████████████████████████████████████████▍                                                                    | 207/500 [07:29<09:53,  2.03s/it]"
     ]
    },
    {
     "name": "stdout",
     "output_type": "stream",
     "text": [
      "Epoch 207: New best model saved! Loss: 0.0109440021\n"
     ]
    },
    {
     "name": "stderr",
     "output_type": "stream",
     "text": [
      "Epoch 210 | Train: 0.002651, Val: 0.010047:  42%|█████████████████████████████████████████████████▏                                                                   | 210/500 [07:35<10:03,  2.08s/it]"
     ]
    },
    {
     "name": "stdout",
     "output_type": "stream",
     "text": [
      "Epoch 210: New best model saved! Loss: 0.0100466511\n"
     ]
    },
    {
     "name": "stderr",
     "output_type": "stream",
     "text": [
      "Epoch 212 | Train: 0.002491, Val: 0.009434:  42%|█████████████████████████████████████████████████▌                                                                   | 212/500 [07:40<09:53,  2.06s/it]"
     ]
    },
    {
     "name": "stdout",
     "output_type": "stream",
     "text": [
      "Epoch 212: New best model saved! Loss: 0.0094338614\n"
     ]
    },
    {
     "name": "stderr",
     "output_type": "stream",
     "text": [
      "Epoch 213 | Train: 0.002409, Val: 0.009410:  43%|█████████████████████████████████████████████████▊                                                                   | 213/500 [07:42<09:57,  2.08s/it]"
     ]
    },
    {
     "name": "stdout",
     "output_type": "stream",
     "text": [
      "Epoch 213: New best model saved! Loss: 0.0094102427\n"
     ]
    },
    {
     "name": "stderr",
     "output_type": "stream",
     "text": [
      "Epoch 214 | Train: 0.002351, Val: 0.009170:  43%|██████████████████████████████████████████████████                                                                   | 214/500 [07:44<09:58,  2.09s/it]"
     ]
    },
    {
     "name": "stdout",
     "output_type": "stream",
     "text": [
      "Epoch 214: New best model saved! Loss: 0.0091695346\n"
     ]
    },
    {
     "name": "stderr",
     "output_type": "stream",
     "text": [
      "Epoch 215 | Train: 0.002267, Val: 0.008650:  43%|██████████████████████████████████████████████████▎                                                                  | 215/500 [07:46<09:55,  2.09s/it]"
     ]
    },
    {
     "name": "stdout",
     "output_type": "stream",
     "text": [
      "Epoch 215: New best model saved! Loss: 0.0086497096\n"
     ]
    },
    {
     "name": "stderr",
     "output_type": "stream",
     "text": [
      "Epoch 216 | Train: 0.002208, Val: 0.007775:  43%|██████████████████████████████████████████████████▌                                                                  | 216/500 [07:48<09:48,  2.07s/it]"
     ]
    },
    {
     "name": "stdout",
     "output_type": "stream",
     "text": [
      "Epoch 216: New best model saved! Loss: 0.0077753314\n"
     ]
    },
    {
     "name": "stderr",
     "output_type": "stream",
     "text": [
      "Epoch 218 | Train: 0.002094, Val: 0.007490:  44%|███████████████████████████████████████████████████                                                                  | 218/500 [07:52<10:03,  2.14s/it]"
     ]
    },
    {
     "name": "stdout",
     "output_type": "stream",
     "text": [
      "Epoch 218: New best model saved! Loss: 0.0074902883\n"
     ]
    },
    {
     "name": "stderr",
     "output_type": "stream",
     "text": [
      "Epoch 219 | Train: 0.002033, Val: 0.007045:  44%|███████████████████████████████████████████████████▏                                                                 | 219/500 [07:54<10:01,  2.14s/it]"
     ]
    },
    {
     "name": "stdout",
     "output_type": "stream",
     "text": [
      "Epoch 219: New best model saved! Loss: 0.0070447910\n"
     ]
    },
    {
     "name": "stderr",
     "output_type": "stream",
     "text": [
      "Epoch 220 | Train: 0.001987, Val: 0.006901:  44%|███████████████████████████████████████████████████▍                                                                 | 220/500 [07:57<10:06,  2.17s/it]"
     ]
    },
    {
     "name": "stdout",
     "output_type": "stream",
     "text": [
      "Epoch 220: New best model saved! Loss: 0.0069008409\n"
     ]
    },
    {
     "name": "stderr",
     "output_type": "stream",
     "text": [
      "Epoch 221 | Train: 0.001936, Val: 0.006816:  44%|███████████████████████████████████████████████████▋                                                                 | 221/500 [07:59<10:08,  2.18s/it]"
     ]
    },
    {
     "name": "stdout",
     "output_type": "stream",
     "text": [
      "Epoch 221: New best model saved! Loss: 0.0068156327\n"
     ]
    },
    {
     "name": "stderr",
     "output_type": "stream",
     "text": [
      "Epoch 222 | Train: 0.001890, Val: 0.006506:  44%|███████████████████████████████████████████████████▉                                                                 | 222/500 [08:01<10:20,  2.23s/it]"
     ]
    },
    {
     "name": "stdout",
     "output_type": "stream",
     "text": [
      "Epoch 222: New best model saved! Loss: 0.0065059099\n"
     ]
    },
    {
     "name": "stderr",
     "output_type": "stream",
     "text": [
      "Epoch 223 | Train: 0.001851, Val: 0.005908:  45%|████████████████████████████████████████████████████▏                                                                | 223/500 [08:03<10:15,  2.22s/it]"
     ]
    },
    {
     "name": "stdout",
     "output_type": "stream",
     "text": [
      "Epoch 223: New best model saved! Loss: 0.0059077237\n"
     ]
    },
    {
     "name": "stderr",
     "output_type": "stream",
     "text": [
      "Epoch 224 | Train: 0.001805, Val: 0.005818:  45%|████████████████████████████████████████████████████▍                                                                | 224/500 [08:06<10:16,  2.23s/it]"
     ]
    },
    {
     "name": "stdout",
     "output_type": "stream",
     "text": [
      "Epoch 224: New best model saved! Loss: 0.0058182220\n"
     ]
    },
    {
     "name": "stderr",
     "output_type": "stream",
     "text": [
      "Epoch 226 | Train: 0.001728, Val: 0.005763:  45%|████████████████████████████████████████████████████▉                                                                | 226/500 [08:10<10:01,  2.20s/it]"
     ]
    },
    {
     "name": "stdout",
     "output_type": "stream",
     "text": [
      "Epoch 226: New best model saved! Loss: 0.0057631429\n"
     ]
    },
    {
     "name": "stderr",
     "output_type": "stream",
     "text": [
      "Epoch 227 | Train: 0.001694, Val: 0.005438:  45%|█████████████████████████████████████████████████████                                                                | 227/500 [08:12<09:55,  2.18s/it]"
     ]
    },
    {
     "name": "stdout",
     "output_type": "stream",
     "text": [
      "Epoch 227: New best model saved! Loss: 0.0054382977\n"
     ]
    },
    {
     "name": "stderr",
     "output_type": "stream",
     "text": [
      "Epoch 228 | Train: 0.001661, Val: 0.005009:  46%|█████████████████████████████████████████████████████▎                                                               | 228/500 [08:14<09:41,  2.14s/it]"
     ]
    },
    {
     "name": "stdout",
     "output_type": "stream",
     "text": [
      "Epoch 228: New best model saved! Loss: 0.0050093456\n"
     ]
    },
    {
     "name": "stderr",
     "output_type": "stream",
     "text": [
      "Epoch 230 | Train: 0.001598, Val: 0.004548:  46%|█████████████████████████████████████████████████████▊                                                               | 230/500 [08:19<09:43,  2.16s/it]"
     ]
    },
    {
     "name": "stdout",
     "output_type": "stream",
     "text": [
      "Epoch 230: New best model saved! Loss: 0.0045476274\n"
     ]
    },
    {
     "name": "stderr",
     "output_type": "stream",
     "text": [
      "Epoch 232 | Train: 0.001549, Val: 0.004461:  46%|██████████████████████████████████████████████████████▎                                                              | 232/500 [08:23<09:38,  2.16s/it]"
     ]
    },
    {
     "name": "stdout",
     "output_type": "stream",
     "text": [
      "Epoch 232: New best model saved! Loss: 0.0044610733\n"
     ]
    },
    {
     "name": "stderr",
     "output_type": "stream",
     "text": [
      "Epoch 234 | Train: 0.001494, Val: 0.004318:  47%|██████████████████████████████████████████████████████▊                                                              | 234/500 [08:27<09:50,  2.22s/it]"
     ]
    },
    {
     "name": "stdout",
     "output_type": "stream",
     "text": [
      "Epoch 234: New best model saved! Loss: 0.0043183360\n"
     ]
    },
    {
     "name": "stderr",
     "output_type": "stream",
     "text": [
      "Epoch 237 | Train: 0.001438, Val: 0.003912:  47%|███████████████████████████████████████████████████████▍                                                             | 237/500 [08:35<10:16,  2.34s/it]"
     ]
    },
    {
     "name": "stdout",
     "output_type": "stream",
     "text": [
      "Epoch 237: New best model saved! Loss: 0.0039121272\n"
     ]
    },
    {
     "name": "stderr",
     "output_type": "stream",
     "text": [
      "Epoch 238 | Train: 0.001415, Val: 0.003815:  48%|███████████████████████████████████████████████████████▋                                                             | 238/500 [08:37<09:55,  2.27s/it]"
     ]
    },
    {
     "name": "stdout",
     "output_type": "stream",
     "text": [
      "Epoch 238: New best model saved! Loss: 0.0038153503\n"
     ]
    },
    {
     "name": "stderr",
     "output_type": "stream",
     "text": [
      "Epoch 239 | Train: 0.001394, Val: 0.003620:  48%|███████████████████████████████████████████████████████▉                                                             | 239/500 [08:39<09:46,  2.25s/it]"
     ]
    },
    {
     "name": "stdout",
     "output_type": "stream",
     "text": [
      "Epoch 239: New best model saved! Loss: 0.0036199660\n"
     ]
    },
    {
     "name": "stderr",
     "output_type": "stream",
     "text": [
      "Epoch 241 | Train: 0.001364, Val: 0.003558:  48%|████████████████████████████████████████████████████████▍                                                            | 241/500 [08:43<09:32,  2.21s/it]"
     ]
    },
    {
     "name": "stdout",
     "output_type": "stream",
     "text": [
      "Epoch 241: New best model saved! Loss: 0.0035575738\n"
     ]
    },
    {
     "name": "stderr",
     "output_type": "stream",
     "text": [
      "Epoch 243 | Train: 0.001333, Val: 0.003315:  49%|████████████████████████████████████████████████████████▊                                                            | 243/500 [08:48<09:17,  2.17s/it]"
     ]
    },
    {
     "name": "stdout",
     "output_type": "stream",
     "text": [
      "Epoch 243: New best model saved! Loss: 0.0033148906\n"
     ]
    },
    {
     "name": "stderr",
     "output_type": "stream",
     "text": [
      "Epoch 245 | Train: 0.001305, Val: 0.003311:  49%|█████████████████████████████████████████████████████████▎                                                           | 245/500 [08:52<09:17,  2.19s/it]"
     ]
    },
    {
     "name": "stdout",
     "output_type": "stream",
     "text": [
      "Epoch 245: New best model saved! Loss: 0.0033106038\n"
     ]
    },
    {
     "name": "stderr",
     "output_type": "stream",
     "text": [
      "Epoch 246 | Train: 0.001287, Val: 0.003017:  49%|█████████████████████████████████████████████████████████▌                                                           | 246/500 [08:54<09:29,  2.24s/it]"
     ]
    },
    {
     "name": "stdout",
     "output_type": "stream",
     "text": [
      "Epoch 246: New best model saved! Loss: 0.0030167959\n"
     ]
    },
    {
     "name": "stderr",
     "output_type": "stream",
     "text": [
      "Epoch 252 | Train: 0.001220, Val: 0.002803:  50%|██████████████████████████████████████████████████████████▉                                                          | 252/500 [09:08<09:12,  2.23s/it]"
     ]
    },
    {
     "name": "stdout",
     "output_type": "stream",
     "text": [
      "Epoch 252: New best model saved! Loss: 0.0028029796\n"
     ]
    },
    {
     "name": "stderr",
     "output_type": "stream",
     "text": [
      "Epoch 253 | Train: 0.001225, Val: 0.002730:  51%|███████████████████████████████████████████████████████████▏                                                         | 253/500 [09:10<08:47,  2.14s/it]"
     ]
    },
    {
     "name": "stdout",
     "output_type": "stream",
     "text": [
      "Epoch 253: New best model saved! Loss: 0.0027299474\n"
     ]
    },
    {
     "name": "stderr",
     "output_type": "stream",
     "text": [
      "Epoch 257 | Train: 0.001181, Val: 0.002718:  51%|████████████████████████████████████████████████████████████▏                                                        | 257/500 [09:18<08:01,  1.98s/it]"
     ]
    },
    {
     "name": "stdout",
     "output_type": "stream",
     "text": [
      "Epoch 257: New best model saved! Loss: 0.0027176017\n"
     ]
    },
    {
     "name": "stderr",
     "output_type": "stream",
     "text": [
      "Epoch 259 | Train: 0.001163, Val: 0.002648:  52%|████████████████████████████████████████████████████████████▌                                                        | 259/500 [09:22<07:56,  1.98s/it]"
     ]
    },
    {
     "name": "stdout",
     "output_type": "stream",
     "text": [
      "Epoch 259: New best model saved! Loss: 0.0026478074\n"
     ]
    },
    {
     "name": "stderr",
     "output_type": "stream",
     "text": [
      "Epoch 260 | Train: 0.001158, Val: 0.002615:  52%|████████████████████████████████████████████████████████████▊                                                        | 260/500 [09:24<07:49,  1.95s/it]"
     ]
    },
    {
     "name": "stdout",
     "output_type": "stream",
     "text": [
      "Epoch 260: New best model saved! Loss: 0.0026153135\n"
     ]
    },
    {
     "name": "stderr",
     "output_type": "stream",
     "text": [
      "Epoch 262 | Train: 0.001146, Val: 0.002557:  52%|█████████████████████████████████████████████████████████████▎                                                       | 262/500 [09:28<07:59,  2.01s/it]"
     ]
    },
    {
     "name": "stdout",
     "output_type": "stream",
     "text": [
      "Epoch 262: New best model saved! Loss: 0.0025570375\n"
     ]
    },
    {
     "name": "stderr",
     "output_type": "stream",
     "text": [
      "Epoch 263 | Train: 0.001147, Val: 0.002339:  53%|█████████████████████████████████████████████████████████████▌                                                       | 263/500 [09:30<08:07,  2.06s/it]"
     ]
    },
    {
     "name": "stdout",
     "output_type": "stream",
     "text": [
      "Epoch 263: New best model saved! Loss: 0.0023388839\n"
     ]
    },
    {
     "name": "stderr",
     "output_type": "stream",
     "text": [
      "Epoch 268 | Train: 0.001121, Val: 0.002279:  54%|██████████████████████████████████████████████████████████████▋                                                      | 268/500 [09:40<07:48,  2.02s/it]"
     ]
    },
    {
     "name": "stdout",
     "output_type": "stream",
     "text": [
      "Epoch 268: New best model saved! Loss: 0.0022793081\n"
     ]
    },
    {
     "name": "stderr",
     "output_type": "stream",
     "text": [
      "Epoch 278 | Train: 0.001071, Val: 0.002161:  56%|█████████████████████████████████████████████████████████████████                                                    | 278/500 [10:01<08:11,  2.21s/it]"
     ]
    },
    {
     "name": "stdout",
     "output_type": "stream",
     "text": [
      "Epoch 278: New best model saved! Loss: 0.0021611737\n"
     ]
    },
    {
     "name": "stderr",
     "output_type": "stream",
     "text": [
      "Epoch 279 | Train: 0.001082, Val: 0.002120:  56%|█████████████████████████████████████████████████████████████████▎                                                   | 279/500 [10:04<08:12,  2.23s/it]"
     ]
    },
    {
     "name": "stdout",
     "output_type": "stream",
     "text": [
      "Epoch 279: New best model saved! Loss: 0.0021198597\n"
     ]
    },
    {
     "name": "stderr",
     "output_type": "stream",
     "text": [
      "Epoch 286 | Train: 0.001048, Val: 0.002017:  57%|██████████████████████████████████████████████████████████████████▉                                                  | 286/500 [10:19<07:57,  2.23s/it]"
     ]
    },
    {
     "name": "stdout",
     "output_type": "stream",
     "text": [
      "Epoch 286: New best model saved! Loss: 0.0020167665\n"
     ]
    },
    {
     "name": "stderr",
     "output_type": "stream",
     "text": [
      "Epoch 292 | Train: 0.001039, Val: 0.001959:  58%|████████████████████████████████████████████████████████████████████▎                                                | 292/500 [10:33<08:10,  2.36s/it]"
     ]
    },
    {
     "name": "stdout",
     "output_type": "stream",
     "text": [
      "Epoch 292: New best model saved! Loss: 0.0019586717\n"
     ]
    },
    {
     "name": "stderr",
     "output_type": "stream",
     "text": [
      "Epoch 295 | Train: 0.001028, Val: 0.001878:  59%|█████████████████████████████████████████████████████████████████████                                                | 295/500 [10:40<07:47,  2.28s/it]"
     ]
    },
    {
     "name": "stdout",
     "output_type": "stream",
     "text": [
      "Epoch 295: New best model saved! Loss: 0.0018781035\n"
     ]
    },
    {
     "name": "stderr",
     "output_type": "stream",
     "text": [
      "Epoch 296 | Train: 0.001031, Val: 0.001806:  59%|█████████████████████████████████████████████████████████████████████▎                                               | 296/500 [10:42<07:35,  2.23s/it]"
     ]
    },
    {
     "name": "stdout",
     "output_type": "stream",
     "text": [
      "Epoch 296: New best model saved! Loss: 0.0018062469\n"
     ]
    },
    {
     "name": "stderr",
     "output_type": "stream",
     "text": [
      "Epoch 313 | Train: 0.000995, Val: 0.001670:  63%|█████████████████████████████████████████████████████████████████████████▏                                           | 313/500 [11:19<06:10,  1.98s/it]"
     ]
    },
    {
     "name": "stdout",
     "output_type": "stream",
     "text": [
      "Epoch 313: New best model saved! Loss: 0.0016699247\n"
     ]
    },
    {
     "name": "stderr",
     "output_type": "stream",
     "text": [
      "Epoch 315 | Train: 0.000995, Val: 0.001552:  63%|█████████████████████████████████████████████████████████████████████████▋                                           | 315/500 [11:23<06:07,  1.99s/it]"
     ]
    },
    {
     "name": "stdout",
     "output_type": "stream",
     "text": [
      "Epoch 315: New best model saved! Loss: 0.0015515625\n"
     ]
    },
    {
     "name": "stderr",
     "output_type": "stream",
     "text": [
      "Epoch 335 | Train: 0.000975, Val: 0.001539:  67%|██████████████████████████████████████████████████████████████████████████████▍                                      | 335/500 [12:03<05:59,  2.18s/it]"
     ]
    },
    {
     "name": "stdout",
     "output_type": "stream",
     "text": [
      "Epoch 335: New best model saved! Loss: 0.0015387414\n"
     ]
    },
    {
     "name": "stderr",
     "output_type": "stream",
     "text": [
      "Epoch 341 | Train: 0.000966, Val: 0.001382:  68%|███████████████████████████████████████████████████████████████████████████████▊                                     | 341/500 [12:16<05:49,  2.20s/it]"
     ]
    },
    {
     "name": "stdout",
     "output_type": "stream",
     "text": [
      "Epoch 341: New best model saved! Loss: 0.0013817498\n"
     ]
    },
    {
     "name": "stderr",
     "output_type": "stream",
     "text": [
      "Epoch 374 | Train: 0.000935, Val: 0.001272:  75%|███████████████████████████████████████████████████████████████████████████████████████▌                             | 374/500 [13:27<04:08,  1.98s/it]"
     ]
    },
    {
     "name": "stdout",
     "output_type": "stream",
     "text": [
      "Epoch 374: New best model saved! Loss: 0.0012723545\n"
     ]
    },
    {
     "name": "stderr",
     "output_type": "stream",
     "text": [
      "Epoch 405 | Train: 0.000913, Val: 0.001175:  81%|██████████████████████████████████████████████████████████████████████████████████████████████▊                      | 405/500 [14:33<03:38,  2.30s/it]"
     ]
    },
    {
     "name": "stdout",
     "output_type": "stream",
     "text": [
      "Epoch 405: New best model saved! Loss: 0.0011754437\n"
     ]
    },
    {
     "name": "stderr",
     "output_type": "stream",
     "text": [
      "Epoch 412 | Train: 0.000904, Val: 0.001163:  82%|████████████████████████████████████████████████████████████████████████████████████████████████▍                    | 412/500 [14:48<03:12,  2.19s/it]"
     ]
    },
    {
     "name": "stdout",
     "output_type": "stream",
     "text": [
      "Epoch 412: New best model saved! Loss: 0.0011632084\n"
     ]
    },
    {
     "name": "stderr",
     "output_type": "stream",
     "text": [
      "Epoch 415 | Train: 0.000904, Val: 0.001148:  83%|█████████████████████████████████████████████████████████████████████████████████████████████████                    | 415/500 [14:55<03:07,  2.20s/it]"
     ]
    },
    {
     "name": "stdout",
     "output_type": "stream",
     "text": [
      "Epoch 415: New best model saved! Loss: 0.0011478508\n"
     ]
    },
    {
     "name": "stderr",
     "output_type": "stream",
     "text": [
      "Epoch 428 | Train: 0.000894, Val: 0.001146:  86%|████████████████████████████████████████████████████████████████████████████████████████████████████▏                | 428/500 [15:22<02:23,  1.99s/it]"
     ]
    },
    {
     "name": "stdout",
     "output_type": "stream",
     "text": [
      "Epoch 428: New best model saved! Loss: 0.0011455046\n"
     ]
    },
    {
     "name": "stderr",
     "output_type": "stream",
     "text": [
      "Epoch 431 | Train: 0.000893, Val: 0.001043:  86%|████████████████████████████████████████████████████████████████████████████████████████████████████▊                | 431/500 [15:27<02:15,  1.96s/it]"
     ]
    },
    {
     "name": "stdout",
     "output_type": "stream",
     "text": [
      "Epoch 431: New best model saved! Loss: 0.0010427427\n"
     ]
    },
    {
     "name": "stderr",
     "output_type": "stream",
     "text": [
      "Epoch 435 | Train: 0.000887, Val: 0.001040:  87%|█████████████████████████████████████████████████████████████████████████████████████████████████████▊               | 435/500 [15:36<02:10,  2.01s/it]"
     ]
    },
    {
     "name": "stdout",
     "output_type": "stream",
     "text": [
      "Epoch 435: New best model saved! Loss: 0.0010401680\n"
     ]
    },
    {
     "name": "stderr",
     "output_type": "stream",
     "text": [
      "Epoch 439 | Train: 0.000888, Val: 0.001018:  88%|██████████████████████████████████████████████████████████████████████████████████████████████████████▋              | 439/500 [15:43<01:58,  1.94s/it]"
     ]
    },
    {
     "name": "stdout",
     "output_type": "stream",
     "text": [
      "Epoch 439: New best model saved! Loss: 0.0010175521\n"
     ]
    },
    {
     "name": "stderr",
     "output_type": "stream",
     "text": [
      "Epoch 450 | Train: 0.000881, Val: 0.000968:  90%|█████████████████████████████████████████████████████████████████████████████████████████████████████████▎           | 450/500 [16:06<01:47,  2.16s/it]"
     ]
    },
    {
     "name": "stdout",
     "output_type": "stream",
     "text": [
      "Epoch 450: New best model saved! Loss: 0.0009682348\n"
     ]
    },
    {
     "name": "stderr",
     "output_type": "stream",
     "text": [
      "Epoch 473 | Train: 0.000865, Val: 0.000930:  95%|██████████████████████████████████████████████████████████████████████████████████████████████████████████████▋      | 473/500 [16:57<00:58,  2.18s/it]"
     ]
    },
    {
     "name": "stdout",
     "output_type": "stream",
     "text": [
      "Epoch 473: New best model saved! Loss: 0.0009299418\n"
     ]
    },
    {
     "name": "stderr",
     "output_type": "stream",
     "text": [
      "Epoch 479 | Train: 0.000859, Val: 0.000925:  96%|████████████████████████████████████████████████████████████████████████████████████████████████████████████████     | 479/500 [17:10<00:43,  2.06s/it]"
     ]
    },
    {
     "name": "stdout",
     "output_type": "stream",
     "text": [
      "Epoch 479: New best model saved! Loss: 0.0009250207\n"
     ]
    },
    {
     "name": "stderr",
     "output_type": "stream",
     "text": [
      "Epoch 489 | Train: 0.000860, Val: 0.000919:  98%|██████████████████████████████████████████████████████████████████████████████████████████████████████████████████▍  | 489/500 [17:29<00:21,  1.97s/it]"
     ]
    },
    {
     "name": "stdout",
     "output_type": "stream",
     "text": [
      "Epoch 489: New best model saved! Loss: 0.0009193278\n"
     ]
    },
    {
     "name": "stderr",
     "output_type": "stream",
     "text": [
      "Epoch 495 | Train: 0.000852, Val: 0.000914:  99%|███████████████████████████████████████████████████████████████████████████████████████████████████████████████████▊ | 495/500 [17:41<00:09,  1.98s/it]"
     ]
    },
    {
     "name": "stdout",
     "output_type": "stream",
     "text": [
      "Epoch 495: New best model saved! Loss: 0.0009139800\n"
     ]
    },
    {
     "name": "stderr",
     "output_type": "stream",
     "text": [
      "Epoch 500 | Train: 0.000845, Val: 0.001103: 100%|█████████████████████████████████████████████████████████████████████████████████████████████████████████████████████| 500/500 [17:51<00:00,  2.14s/it]"
     ]
    },
    {
     "name": "stdout",
     "output_type": "stream",
     "text": [
      "Training complete! Best loss: 0.00091398 at epoch 495\n"
     ]
    },
    {
     "name": "stderr",
     "output_type": "stream",
     "text": [
      "\n"
     ]
    }
   ],
   "source": [
    "model   = get_model(cfg)\n",
    "training_results = model.train_model( train_loader, \n",
    "                                      val_loader,\n",
    "                                      cfg['training']['epochs'],\n",
    "                                      cfg['training']['save_freq'],\n",
    "                                      cfg['training']['patience'])"
   ]
  },
  {
   "cell_type": "code",
   "execution_count": 7,
   "id": "91efa0e9-6ae1-48c7-a288-cf72ad9045d9",
   "metadata": {},
   "outputs": [
    {
     "data": {
      "image/png": "[encoded data removed]",
      "text/plain": [
       "<Figure size 800x360 with 2 Axes>"
      ]
     },
     "metadata": {},
     "output_type": "display_data"
    }
   ],
   "source": [
    "# we want to evaluate the model performance on the training dataset\n",
    "model.plot_losses(\"plots\")\n"
   ]
  },
  {
   "cell_type": "markdown",
   "id": "e037164a-cb40-40bc-9936-8935e421dad8",
   "metadata": {},
   "source": [
    "Next, we evaluate model performacne "
   ]
  },
  {
   "cell_type": "code",
   "execution_count": 8,
   "id": "6be6ed80-e94c-49f8-9427-53934bac1ab9",
   "metadata": {},
   "outputs": [
    {
     "name": "stdout",
     "output_type": "stream",
     "text": [
      "Best model loaded successfully.\n"
     ]
    },
    {
     "name": "stderr",
     "output_type": "stream",
     "text": [
      "Evaluating PINN: 100%|████████████████████████████████████████████████████████████████████████████████████████████████████████████████████████████████████████████████| 103/103 [00:01<00:00, 84.26it/s]\n"
     ]
    },
    {
     "name": "stdout",
     "output_type": "stream",
     "text": [
      "Saved evaluation DataFrame to: plots\\pinn_evaluation.csv\n"
     ]
    }
   ],
   "source": [
    "\n",
    "\n",
    "\n",
    "result_df = model.evaluate(scaler, df, all_loader, cfg['data']['feature_names'], cfg['data']['target_names'] )\n"
   ]
  },
  {
   "cell_type": "code",
   "execution_count": 9,
   "id": "1060c939-35ab-4ef2-8ace-162ef6e36e49",
   "metadata": {},
   "outputs": [
    {
     "name": "stdout",
     "output_type": "stream",
     "text": [
      "Index(['t', 'j', 'U', 'T', 'delta_j', 'cumulative_current',\n",
      "       'temperature_slope', 'rolling_mean_current', 'rolling_std_current',\n",
      "       'U_perf', 'eta_kinetic_perf', 'R_ohmic_perf', 'U_deg'],\n",
      "      dtype='object')\n",
      "<bound method NDFrame.head of                   t         j          T  u_deg_targ  u_deg_pred     f_pde  \\\n",
      "0          0.000000  0.199950  31.900000   -0.234970    0.088629 -0.004426   \n",
      "1          0.008333  0.200000  32.700001    0.107468    0.087819 -0.004292   \n",
      "2          0.016667  0.200000  33.500000    0.116968    0.087027 -0.004162   \n",
      "3          0.025000  0.200000  33.600002    0.116968    0.086929 -0.004146   \n",
      "4          0.033333  0.200000  34.399998    0.125968    0.086143 -0.004017   \n",
      "...             ...       ...        ...         ...         ...       ...   \n",
      "131150  1096.891602  0.200000  92.499992    0.042868    0.035780  0.000566   \n",
      "131151  1096.900024  0.200000  92.499992    0.039768    0.035780  0.000566   \n",
      "131152  1096.908325  0.200000  92.300003    0.042768    0.035885  0.000582   \n",
      "131153  1096.916748  0.200000  92.099998    0.042568    0.035991  0.000598   \n",
      "131154  1096.925049  0.199975  92.000000    0.042499    0.036047  0.000606   \n",
      "\n",
      "        eta_kinetic_deg  R_ohmic_deg    G_pred   u_deg_t  cumulative_current  \\\n",
      "0              0.153497    -0.623568 -0.436776 -0.439335            0.000000   \n",
      "1              0.152654    -0.623432 -0.436807 -0.439289            0.001667   \n",
      "2              0.151808    -0.623289 -0.436843 -0.439249            0.003333   \n",
      "3              0.151704    -0.623272 -0.436848 -0.439245            0.005000   \n",
      "4              0.150864    -0.623128 -0.436885 -0.439207            0.006667   \n",
      "...                 ...          ...       ...       ...                 ...   \n",
      "131150         0.092155    -0.600871 -0.444697 -0.444370          233.425247   \n",
      "131151         0.092155    -0.600871 -0.444697 -0.444370          233.426910   \n",
      "131152         0.092247    -0.600834 -0.444699 -0.444363          233.428558   \n",
      "131153         0.092339    -0.600798 -0.444701 -0.444356          233.430237   \n",
      "131154         0.092377    -0.600774 -0.444704 -0.444354          233.431900   \n",
      "\n",
      "        rolling_mean_current  rolling_std_current  eta_kinetic_perf  \\\n",
      "0                   0.199950             0.000000          0.194174   \n",
      "1                   0.199975             0.000035          0.194223   \n",
      "2                   0.199983             0.000029          0.194223   \n",
      "3                   0.199988             0.000025          0.194223   \n",
      "4                   0.199990             0.000022          0.194223   \n",
      "...                      ...                  ...               ...   \n",
      "131150              0.199999             0.000004          0.194223   \n",
      "131151              0.199999             0.000004          0.194223   \n",
      "131152              0.199999             0.000004          0.194223   \n",
      "131153              0.199999             0.000004          0.194223   \n",
      "131154              0.199999             0.000004          0.194198   \n",
      "\n",
      "        R_ohmic_perf    u_perf  u_cell_targ  u_cell_pred  \n",
      "0           0.971113  2.158970       1.9240     2.247598  \n",
      "1           0.971113  2.159032       2.2665     2.246851  \n",
      "2           0.971113  2.159032       2.2760     2.246059  \n",
      "3           0.971113  2.159032       2.2760     2.245961  \n",
      "4           0.971113  2.159032       2.2850     2.245175  \n",
      "...              ...       ...          ...          ...  \n",
      "131150      0.971113  2.159032       2.2019     2.194812  \n",
      "131151      0.971113  2.159032       2.1988     2.194812  \n",
      "131152      0.971113  2.159032       2.2018     2.194918  \n",
      "131153      0.971113  2.159032       2.2016     2.195023  \n",
      "131154      0.971113  2.159001       2.2015     2.195048  \n",
      "\n",
      "[131155 rows x 18 columns]>\n"
     ]
    }
   ],
   "source": [
    "print( df.columns )\n",
    "\n",
    "print( result_df.head )"
   ]
  },
  {
   "cell_type": "code",
   "execution_count": 10,
   "id": "ac7dd139-edfe-44ff-95e3-504a948fa8a5",
   "metadata": {},
   "outputs": [
    {
     "name": "stdout",
     "output_type": "stream",
     "text": [
      "u_deg_targ\n",
      "✅ PINN performance plot saved to plots (including residuals)\n"
     ]
    }
   ],
   "source": [
    "plot_pinn_performance(result_df, cfg['data']['feature_names'], cfg['data']['target_names'], train_frac = cfg[\"data\"][\"train_frac\"], val_frac = cfg[\"data\"][\"val_frac\"], save_path = \"plots\")"
   ]
  },
  {
   "cell_type": "code",
   "execution_count": 11,
   "id": "4d3c19e8-a4ec-4a4b-a18f-431177b974ee",
   "metadata": {},
   "outputs": [],
   "source": [
    "# next, we use the trained model to evaluate a new dataset\n",
    "# in this example, we import a DegradEL_forecast.csv dataset and preprocess it"
   ]
  },
  {
   "cell_type": "code",
   "execution_count": 12,
   "id": "a0548a2c-44e2-4f9d-aa1d-96dbc552501f",
   "metadata": {},
   "outputs": [],
   "source": [
    "# import the new dataset\n",
    "\n",
    "#forecast_dp = Preprocessor(\"DegradEL_forecasting_ramping_data.csv\")\n",
    "#forecast_df = forecast_dp.preprocess(\n",
    "#                    t0 = cfg[\"data\"][\"t0\"],\n",
    "#                    t1 = cfg[\"data\"][\"t1\"],\n",
    "#                    fitting_df = df,\n",
    "#                    plot_fit = False,   \n",
    "#                    plot_raw = False   \n",
    "#                    )\n"
   ]
  },
  {
   "cell_type": "markdown",
   "id": "32bc8cd5-387f-4163-ad9b-942fb85aa013",
   "metadata": {},
   "source": [
    "At this point we have trained the PINN on a dataset. We then want to evaluate how this specific cell would perform if we gave it another test protocol. For this purpose, we now test the case where the cell is operating based on the solar PV profile. \n",
    "\n",
    "The \"solarPV_data_for_evaluation_normalized.csv\" file contains ~6 months of solar PV data normalized to current density values similar to what is contained in the original trainind dataset.\n",
    "\n",
    "First, we initiate a new data Preprocessor for the new forecasting dataset."
   ]
  },
  {
   "cell_type": "code",
   "execution_count": 22,
   "id": "f2ca16b0-cd03-481f-9eb7-c1e1dc6f5c4d",
   "metadata": {},
   "outputs": [],
   "source": [
    "fdp = Preprocessor(\"augmented_solarPV.csv\")"
   ]
  },
  {
   "cell_type": "code",
   "execution_count": 23,
   "id": "586601e6-8fbf-4d14-ab45-3d256dab9cb8",
   "metadata": {},
   "outputs": [
    {
     "data": {
      "text/html": [
       "<div>\n",
       "<style scoped>\n",
       "    .dataframe tbody tr th:only-of-type {\n",
       "        vertical-align: middle;\n",
       "    }\n",
       "\n",
       "    .dataframe tbody tr th {\n",
       "        vertical-align: top;\n",
       "    }\n",
       "\n",
       "    .dataframe thead th {\n",
       "        text-align: right;\n",
       "    }\n",
       "</style>\n",
       "<table border=\"1\" class=\"dataframe\">\n",
       "  <thead>\n",
       "    <tr style=\"text-align: right;\">\n",
       "      <th></th>\n",
       "      <th>t</th>\n",
       "      <th>j</th>\n",
       "      <th>T</th>\n",
       "      <th>cumulative_current</th>\n",
       "      <th>temperature_slope</th>\n",
       "      <th>rolling_mean_current</th>\n",
       "      <th>rolling_std_current</th>\n",
       "    </tr>\n",
       "  </thead>\n",
       "  <tbody>\n",
       "    <tr>\n",
       "      <th>0</th>\n",
       "      <td>0.000000</td>\n",
       "      <td>0.037902</td>\n",
       "      <td>90</td>\n",
       "      <td>0.000000</td>\n",
       "      <td>0.0</td>\n",
       "      <td>0.037902</td>\n",
       "      <td>0.000000</td>\n",
       "    </tr>\n",
       "    <tr>\n",
       "      <th>1</th>\n",
       "      <td>0.016667</td>\n",
       "      <td>0.038885</td>\n",
       "      <td>90</td>\n",
       "      <td>0.000648</td>\n",
       "      <td>0.0</td>\n",
       "      <td>0.038393</td>\n",
       "      <td>0.000695</td>\n",
       "    </tr>\n",
       "    <tr>\n",
       "      <th>2</th>\n",
       "      <td>0.033333</td>\n",
       "      <td>0.039867</td>\n",
       "      <td>90</td>\n",
       "      <td>0.001313</td>\n",
       "      <td>0.0</td>\n",
       "      <td>0.038885</td>\n",
       "      <td>0.000983</td>\n",
       "    </tr>\n",
       "    <tr>\n",
       "      <th>3</th>\n",
       "      <td>0.050000</td>\n",
       "      <td>0.040848</td>\n",
       "      <td>90</td>\n",
       "      <td>0.001993</td>\n",
       "      <td>0.0</td>\n",
       "      <td>0.039376</td>\n",
       "      <td>0.001268</td>\n",
       "    </tr>\n",
       "    <tr>\n",
       "      <th>4</th>\n",
       "      <td>0.066667</td>\n",
       "      <td>0.041829</td>\n",
       "      <td>90</td>\n",
       "      <td>0.002690</td>\n",
       "      <td>0.0</td>\n",
       "      <td>0.039866</td>\n",
       "      <td>0.001552</td>\n",
       "    </tr>\n",
       "    <tr>\n",
       "      <th>...</th>\n",
       "      <td>...</td>\n",
       "      <td>...</td>\n",
       "      <td>...</td>\n",
       "      <td>...</td>\n",
       "      <td>...</td>\n",
       "      <td>...</td>\n",
       "      <td>...</td>\n",
       "    </tr>\n",
       "    <tr>\n",
       "      <th>298852</th>\n",
       "      <td>4999.916667</td>\n",
       "      <td>0.070613</td>\n",
       "      <td>90</td>\n",
       "      <td>556.974533</td>\n",
       "      <td>0.0</td>\n",
       "      <td>0.063173</td>\n",
       "      <td>0.017025</td>\n",
       "    </tr>\n",
       "    <tr>\n",
       "      <th>298853</th>\n",
       "      <td>4999.933333</td>\n",
       "      <td>0.069264</td>\n",
       "      <td>90</td>\n",
       "      <td>556.975688</td>\n",
       "      <td>0.0</td>\n",
       "      <td>0.063475</td>\n",
       "      <td>0.016807</td>\n",
       "    </tr>\n",
       "    <tr>\n",
       "      <th>298854</th>\n",
       "      <td>4999.950000</td>\n",
       "      <td>0.067915</td>\n",
       "      <td>90</td>\n",
       "      <td>556.976819</td>\n",
       "      <td>0.0</td>\n",
       "      <td>0.063761</td>\n",
       "      <td>0.016584</td>\n",
       "    </tr>\n",
       "    <tr>\n",
       "      <th>298855</th>\n",
       "      <td>4999.966667</td>\n",
       "      <td>0.066564</td>\n",
       "      <td>90</td>\n",
       "      <td>556.977929</td>\n",
       "      <td>0.0</td>\n",
       "      <td>0.064033</td>\n",
       "      <td>0.016357</td>\n",
       "    </tr>\n",
       "    <tr>\n",
       "      <th>298856</th>\n",
       "      <td>4999.983333</td>\n",
       "      <td>0.065211</td>\n",
       "      <td>90</td>\n",
       "      <td>556.979016</td>\n",
       "      <td>0.0</td>\n",
       "      <td>0.064289</td>\n",
       "      <td>0.016128</td>\n",
       "    </tr>\n",
       "  </tbody>\n",
       "</table>\n",
       "<p>298857 rows × 7 columns</p>\n",
       "</div>"
      ],
      "text/plain": [
       "                  t         j   T  cumulative_current  temperature_slope  \\\n",
       "0          0.000000  0.037902  90            0.000000                0.0   \n",
       "1          0.016667  0.038885  90            0.000648                0.0   \n",
       "2          0.033333  0.039867  90            0.001313                0.0   \n",
       "3          0.050000  0.040848  90            0.001993                0.0   \n",
       "4          0.066667  0.041829  90            0.002690                0.0   \n",
       "...             ...       ...  ..                 ...                ...   \n",
       "298852  4999.916667  0.070613  90          556.974533                0.0   \n",
       "298853  4999.933333  0.069264  90          556.975688                0.0   \n",
       "298854  4999.950000  0.067915  90          556.976819                0.0   \n",
       "298855  4999.966667  0.066564  90          556.977929                0.0   \n",
       "298856  4999.983333  0.065211  90          556.979016                0.0   \n",
       "\n",
       "        rolling_mean_current  rolling_std_current  \n",
       "0                   0.037902             0.000000  \n",
       "1                   0.038393             0.000695  \n",
       "2                   0.038885             0.000983  \n",
       "3                   0.039376             0.001268  \n",
       "4                   0.039866             0.001552  \n",
       "...                      ...                  ...  \n",
       "298852              0.063173             0.017025  \n",
       "298853              0.063475             0.016807  \n",
       "298854              0.063761             0.016584  \n",
       "298855              0.064033             0.016357  \n",
       "298856              0.064289             0.016128  \n",
       "\n",
       "[298857 rows x 7 columns]"
      ]
     },
     "execution_count": 23,
     "metadata": {},
     "output_type": "execute_result"
    }
   ],
   "source": [
    "fdp.load() # loading the data"
   ]
  },
  {
   "cell_type": "markdown",
   "id": "6a704963-4945-42dc-9446-fbf440a32307",
   "metadata": {},
   "source": [
    "Using the previous training datasset (\"df\"), we can still fit performance data on the new test protocol even though it does not contain any cell voltages. This is done by specifying fitting_df = df."
   ]
  },
  {
   "cell_type": "code",
   "execution_count": 24,
   "id": "272f26ac-e87e-42bd-b9f3-04afae23f512",
   "metadata": {},
   "outputs": [],
   "source": [
    "forecast_df = fdp.fit_performance( t0 = cfg[\"data\"][\"t0\"],\n",
    "                    t1 = cfg[\"data\"][\"t1\"],\n",
    "                    fitting_df = df )\n"
   ]
  },
  {
   "cell_type": "code",
   "execution_count": 25,
   "id": "e9181b1f-8b8a-45a4-bc4a-60923fc91997",
   "metadata": {},
   "outputs": [
    {
     "name": "stdout",
     "output_type": "stream",
     "text": [
      "Index(['t', 'j', 'T', 'cumulative_current', 'temperature_slope',\n",
      "       'rolling_mean_current', 'rolling_std_current', 'U_perf',\n",
      "       'eta_kinetic_perf', 'R_ohmic_perf'],\n",
      "      dtype='object')\n"
     ]
    }
   ],
   "source": [
    "print(forecast_df.columns)"
   ]
  },
  {
   "cell_type": "markdown",
   "id": "95d6bdc3-e85c-4402-bd0d-cc5fb1624361",
   "metadata": {},
   "source": [
    "We inspect that the new forecast_df does indeed contain the performance cell voltage for all time values."
   ]
  },
  {
   "cell_type": "code",
   "execution_count": 26,
   "id": "4ebf98f0-5fbc-415e-b692-0d68d1ab5cee",
   "metadata": {},
   "outputs": [
    {
     "data": {
      "text/plain": [
       "[<matplotlib.lines.Line2D at 0x2f265d1d950>]"
      ]
     },
     "execution_count": 26,
     "metadata": {},
     "output_type": "execute_result"
    },
    {
     "data": {
      "image/png": "[encoded data removed]",
      "text/plain": [
       "<Figure size 640x480 with 1 Axes>"
      ]
     },
     "metadata": {},
     "output_type": "display_data"
    }
   ],
   "source": [
    "import matplotlib.pyplot as plt\n",
    "\n",
    "plt.figure()\n",
    "plt.plot(forecast_df['t'], forecast_df['U_perf'], '.')"
   ]
  },
  {
   "cell_type": "code",
   "execution_count": 27,
   "id": "e31a7a8b-2253-41ef-acf8-33adea33237e",
   "metadata": {},
   "outputs": [],
   "source": [
    "# we want to use the same scaler from before, so the data is scaled in an identical way\n",
    "\n",
    "forecast_loader = scaler.get_inference_loader(\n",
    "    forecast_df,\n",
    "    batch_size=cfg[\"training\"][\"batch_sizes\"][0] )\n",
    "\n",
    "# we set the feature and target names to the same as in the previous example\n",
    "# however, the dataframe (df) is the new dataset\n",
    "# result_df = model.evaluate(scaler, df, all_loader, cfg['data']['feature_names'], cfg['data']['target_names'])\n",
    "\n",
    "# "
   ]
  },
  {
   "cell_type": "code",
   "execution_count": 28,
   "id": "2d130d2a-a1c9-44ea-8c3e-dbee3c0a4923",
   "metadata": {},
   "outputs": [
    {
     "name": "stdout",
     "output_type": "stream",
     "text": [
      "Best model loaded successfully.\n"
     ]
    },
    {
     "name": "stderr",
     "output_type": "stream",
     "text": [
      "Evaluating PINN: 100%|███████████████████████████████████████████████████████████████████████████████████████████████████████████████████████████████████████████████| 234/234 [00:02<00:00, 105.39it/s]\n"
     ]
    },
    {
     "name": "stdout",
     "output_type": "stream",
     "text": [
      "Saved evaluation DataFrame to: forecast_plots\\pinn_evaluation.csv\n"
     ]
    }
   ],
   "source": [
    "forecast_result_df = model.evaluate(scaler, forecast_df, forecast_loader, cfg['data']['feature_names'], cfg['data']['target_names'], save_folder = \"forecast_plots\")"
   ]
  },
  {
   "cell_type": "code",
   "execution_count": 29,
   "id": "9f5fbda8-933a-418a-9243-d9aff8e18eab",
   "metadata": {},
   "outputs": [
    {
     "name": "stdout",
     "output_type": "stream",
     "text": [
      "u_deg_targ\n",
      "✅ PINN performance plot saved to forecast_plots\n"
     ]
    }
   ],
   "source": [
    "\n",
    "plot_pinn_performance(forecast_result_df, cfg['data']['feature_names'], cfg['data']['target_names'], train_frac = 0.0, val_frac = 0.0, save_path = \"forecast_plots\")"
   ]
  },
  {
   "cell_type": "code",
   "execution_count": 30,
   "id": "60ab3677-ddf8-4660-8b60-0111dac52505",
   "metadata": {},
   "outputs": [
    {
     "name": "stdout",
     "output_type": "stream",
     "text": [
      "                  t         j     T  u_deg_targ  u_deg_pred     f_pde  \\\n",
      "0          0.000000  0.037902  90.0         NaN    0.062474  0.000153   \n",
      "1          0.016667  0.038885  90.0         NaN    0.062451  0.000144   \n",
      "2          0.033333  0.039867  90.0         NaN    0.062426  0.000138   \n",
      "3          0.050000  0.040848  90.0         NaN    0.062400  0.000133   \n",
      "4          0.066667  0.041829  90.0         NaN    0.062374  0.000127   \n",
      "...             ...       ...   ...         ...         ...       ...   \n",
      "298852  4999.916504  0.070613  90.0         NaN    0.123536  0.124821   \n",
      "298853  4999.933105  0.069264  90.0         NaN    0.123408  0.124432   \n",
      "298854  4999.950195  0.067915  90.0         NaN    0.123278  0.124041   \n",
      "298855  4999.966797  0.066564  90.0         NaN    0.123145  0.123651   \n",
      "298856  4999.983398  0.065211  90.0         NaN    0.123009  0.123261   \n",
      "\n",
      "        eta_kinetic_deg  R_ohmic_deg    G_pred   u_deg_t  cumulative_current  \\\n",
      "0              0.067102    -0.574625 -0.452672 -0.452584            0.000000   \n",
      "1              0.067339    -0.574767 -0.452620 -0.452537            0.000648   \n",
      "2              0.067576    -0.574958 -0.452565 -0.452485            0.001313   \n",
      "3              0.067813    -0.575148 -0.452509 -0.452433            0.001993   \n",
      "4              0.068050    -0.575339 -0.452454 -0.452380            0.002690   \n",
      "...                 ...          ...       ...       ...                 ...   \n",
      "298852         0.124084    -0.455726 -0.508526 -0.436355          556.974487   \n",
      "298853         0.123936    -0.455666 -0.508402 -0.436456          556.975708   \n",
      "298854         0.123785    -0.455604 -0.508278 -0.436558          556.976807   \n",
      "298855         0.123630    -0.455538 -0.508156 -0.436661          556.977905   \n",
      "298856         0.123474    -0.455469 -0.508035 -0.436765          556.979004   \n",
      "\n",
      "        rolling_mean_current  rolling_std_current  eta_kinetic_perf  \\\n",
      "0                   0.037902             0.000000          0.036807   \n",
      "1                   0.038393             0.000695          0.037762   \n",
      "2                   0.038885             0.000983          0.038715   \n",
      "3                   0.039376             0.001268          0.039668   \n",
      "4                   0.039866             0.001552          0.040621   \n",
      "...                      ...                  ...               ...   \n",
      "298852              0.063173             0.017025          0.068573   \n",
      "298853              0.063475             0.016807          0.067263   \n",
      "298854              0.063761             0.016584          0.065953   \n",
      "298855              0.064033             0.016357          0.064641   \n",
      "298856              0.064289             0.016128          0.063328   \n",
      "\n",
      "        R_ohmic_perf    u_perf  u_cell_targ  u_cell_pred  \n",
      "0           0.971113  1.906119          NaN     1.968593  \n",
      "1           0.971113  1.908543          NaN     1.970995  \n",
      "2           0.971113  1.910929          NaN     1.973355  \n",
      "3           0.971113  1.913279          NaN     1.975679  \n",
      "4           0.971113  1.915594          NaN     1.977968  \n",
      "...              ...       ...          ...          ...  \n",
      "298852      0.971113  1.973608          NaN     2.097144  \n",
      "298853      0.971113  1.971192          NaN     2.094600  \n",
      "298854      0.971113  1.968751          NaN     2.092030  \n",
      "298855      0.971113  1.966286          NaN     2.089431  \n",
      "298856      0.971113  1.963795          NaN     2.086803  \n",
      "\n",
      "[298857 rows x 18 columns]\n"
     ]
    }
   ],
   "source": [
    "print(forecast_result_df)"
   ]
  },
  {
   "cell_type": "code",
   "execution_count": null,
   "id": "5c7e8313-7c4b-4fdf-abbb-3042db3da1ca",
   "metadata": {},
   "outputs": [],
   "source": []
  },
  {
   "cell_type": "code",
   "execution_count": null,
   "id": "3fb9cd28-4c7d-4a72-a031-5d1e5d6eba92",
   "metadata": {},
   "outputs": [],
   "source": []
  },
  {
   "cell_type": "code",
   "execution_count": null,
   "id": "1574dfc2-675d-4623-81b5-df42a7756ce2",
   "metadata": {},
   "outputs": [],
   "source": []
  },
  {
   "cell_type": "code",
   "execution_count": null,
   "id": "d8c8a8a0-8a77-453b-99c2-5376898b7a78",
   "metadata": {},
   "outputs": [],
   "source": []
  },
  {
   "cell_type": "code",
   "execution_count": null,
   "id": "8ecb9d91-01c1-46c5-ad73-7adbec6d01a6",
   "metadata": {},
   "outputs": [],
   "source": []
  },
  {
   "cell_type": "code",
   "execution_count": null,
   "id": "cec54872-3290-45d1-82d9-b9d96f47ba49",
   "metadata": {},
   "outputs": [],
   "source": []
  },
  {
   "cell_type": "code",
   "execution_count": null,
   "id": "ff03ad7e-9361-4137-8af7-ae97975df391",
   "metadata": {},
   "outputs": [],
   "source": []
  }
 ],
 "metadata": {
  "kernelspec": {
   "display_name": "Python 3 (ipykernel)",
   "language": "python",
   "name": "python3"
  },
  "language_info": {
   "codemirror_mode": {
    "name": "ipython",
    "version": 3
   },
   "file_extension": ".py",
   "mimetype": "text/x-python",
   "name": "python",
   "nbconvert_exporter": "python",
   "pygments_lexer": "ipython3",
   "version": "3.11.7"
  }
 },
 "nbformat": 4,
 "nbformat_minor": 5
}
